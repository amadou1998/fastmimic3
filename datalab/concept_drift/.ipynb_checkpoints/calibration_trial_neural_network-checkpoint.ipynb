{
 "cells": [
  {
   "cell_type": "markdown",
   "id": "5b0dca8e",
   "metadata": {},
   "source": [
    "# MIMIC-III: Calibration for NN\n",
    "\n",
    "After having implemented the neural networks for MIMIC-III, we can now begin to investigate their proprieties in terms of calibration. This can be done for the following tasks:\n",
    "\n",
    "- Phenotyping\n",
    "- In-Hospital-Mortality\n",
    "- Decompensation\n",
    "\n",
    "The length of stay prediction task, is in essence, a regression tasks. \n",
    "\n",
    "After having characterized their calibration properties, we will begin to try and re-calibrate the networks."
   ]
  },
  {
   "cell_type": "code",
   "execution_count": 1,
   "id": "5313bc2a",
   "metadata": {},
   "outputs": [
    {
     "name": "stderr",
     "output_type": "stream",
     "text": [
      "2022-06-20 13:31:20.207190: I tensorflow/core/util/util.cc:169] oneDNN custom operations are on. You may see slightly different numerical results due to floating-point round-off errors from different computation orders. To turn them off, set the environment variable `TF_ENABLE_ONEDNN_OPTS=0`.\n",
      "2022-06-20 13:31:22.628717: I tensorflow/stream_executor/cuda/cuda_gpu_executor.cc:975] successful NUMA node read from SysFS had negative value (-1), but there must be at least one NUMA node, so returning NUMA node zero\n",
      "2022-06-20 13:31:22.647689: I tensorflow/stream_executor/cuda/cuda_gpu_executor.cc:975] successful NUMA node read from SysFS had negative value (-1), but there must be at least one NUMA node, so returning NUMA node zero\n",
      "2022-06-20 13:31:22.648088: I tensorflow/stream_executor/cuda/cuda_gpu_executor.cc:975] successful NUMA node read from SysFS had negative value (-1), but there must be at least one NUMA node, so returning NUMA node zero\n"
     ]
    }
   ],
   "source": [
    "import pdb\n",
    "import os\n",
    "import json\n",
    "import numpy as np\n",
    "from pathlib import Path\n",
    "from keras.callbacks import ModelCheckpoint\n",
    "from tensorflow.keras.metrics import AUC\n",
    "from utils.mimic import get_sample_size\n",
    "\n",
    "import datasets.mimic\n",
    "from preprocessing.mimic import Preprocessor\n",
    "from preprocessing import Discretizer, BatchGenerator, Normalizer\n",
    "from models.lstm import LSTMNetwork\n",
    "from utils.IO import *"
   ]
  },
  {
   "cell_type": "markdown",
   "id": "33c4e929",
   "metadata": {},
   "source": [
    "## Running the Benchmark Models\n",
    "We will begin with the linear models for the sake of simplicity.\n",
    "\n",
    "The phontyping task needs the full dataset to make valid predictions, therefore we do not recomend using it here.\n",
    "\n",
    "### Load and Prepare the Data\n",
    "Next we load and preprocess the data for a given set into sample, label pairs which can directly be fed to a linear model."
   ]
  },
  {
   "cell_type": "code",
   "execution_count": 2,
   "id": "e4c43837",
   "metadata": {},
   "outputs": [],
   "source": [
    "# Choose a task\n",
    "task = \"decompensation\" # length_of_stay, phenotyping, in_hospital_mortality, decompensation\n",
    "\n",
    "# Generate directories\n",
    "storage_path = Path(\"resources\", task)\n",
    "storage_path.mkdir(parents=True, exist_ok=True)\n",
    "\n",
    "raw_path = Path(storage_path / \"full_set\")\n",
    "raw_path.mkdir(parents=True, exist_ok=True)\n"
   ]
  },
  {
   "cell_type": "code",
   "execution_count": 3,
   "id": "2f8bec3c",
   "metadata": {},
   "outputs": [
    {
     "name": "stdout",
     "output_type": "stream",
     "text": [
      "INFO - 2022-06-20 13:31:22:datasets/mimic.py:L 51 - task data\n",
      "INFO - 2022-06-20 13:31:24:preprocessing/mimic.py:L 70 - Only type available for this task is binary! Argument disregarded\n",
      "INFO - 2022-06-20 13:31:25:datasets/__init__.py:L 59 - Approximating test set size to 0.19979\n"
     ]
    }
   ],
   "source": [
    "# Load the data into usable, subject-wise timeseries elements\n",
    "(timeseries,\n",
    " episodic_data,\n",
    " subject_events,\n",
    " subject_diagnoses,\n",
    " subject_icu_history) = datasets.mimic.load_data(storage_path=raw_path)\n",
    "\n",
    "# Preprocess the data for our task\n",
    "preprocessor = Preprocessor(timeseries,\n",
    "                            episodic_data,\n",
    "                            subject_diagnoses,\n",
    "                            subject_icu_history,\n",
    "                            config_dict=Path(os.getenv(\"CONFIG\"), \"datasets.json\"))\n",
    "\n",
    "X_subjects, y_subjects = preprocessor.make_task_data(task)\n",
    "\n",
    "# Splitting the data\n",
    "(X_train, X_test, \n",
    " y_train, y_test) = datasets.train_test_split(X_subjects, \n",
    "                                              y_subjects, \n",
    "                                              test_size=0.2,\n",
    "                                              concatenate=False)"
   ]
  },
  {
   "cell_type": "markdown",
   "id": "180219da",
   "metadata": {},
   "source": [
    "### Setting up the Model Run\n",
    "\n",
    "Next we need to initialize the classes we will need for our model run. This includes:\n",
    "* Discretizer\n",
    "* Normalizer\n",
    "* Batch generators\n"
   ]
  },
  {
   "cell_type": "code",
   "execution_count": 4,
   "id": "f07e1e85",
   "metadata": {},
   "outputs": [
    {
     "name": "stdout",
     "output_type": "stream",
     "text": [
      "INFO - 2022-06-20 13:31:27:preprocessing/__init__.py:L 491 - Done computing new normalizer in 1.575594425201416!\n"
     ]
    }
   ],
   "source": [
    "sample_period = 1.0\n",
    "eps = 1e-6\n",
    "\n",
    "discretizer = Discretizer(config_dictionary=Path(os.getenv(\"CONFIG\"), \"mimic\", \"discretizer_config.json\"),\n",
    "                          sample_period=sample_period,\n",
    "                          eps=eps)\n",
    "\n",
    "normalizer_file = Path(os.getenv(\"MODEL\"), \"mimic\", \"normalizer\", f\"normalizer_{task}.obj\")\n",
    "normalizer = Normalizer(normalizer_file)\n",
    "normalizer.fit_dataset(discretizer, X_train)\n",
    "\n",
    "\n",
    "train_generator = BatchGenerator(X_train, \n",
    "                                 y_train,                                  \n",
    "                                 discretizer,\n",
    "                                 \"fixed_cat\",\n",
    "                                 normalizer,\n",
    "                                 load_normalizer=True)\n",
    "\n",
    "test_generator = BatchGenerator(X_test, \n",
    "                                y_test,\n",
    "                                discretizer,\n",
    "                                \"fixed_cat\",\n",
    "                                normalizer,\n",
    "                                load_normalizer=True)\n",
    "\n",
    "saver = ModelCheckpoint(Path(os.getenv('MODEL'), \"mimic\"), save_freq='epoch')"
   ]
  },
  {
   "cell_type": "markdown",
   "id": "04012ec6",
   "metadata": {},
   "source": [
    "### Setting up the Model\n",
    "Nest we need to setup the model. The model parameters are all predefined by the benchmark."
   ]
  },
  {
   "cell_type": "code",
   "execution_count": 5,
   "id": "f63ecfd7",
   "metadata": {},
   "outputs": [
    {
     "name": "stderr",
     "output_type": "stream",
     "text": [
      "2022-06-20 13:31:27.073352: I tensorflow/core/platform/cpu_feature_guard.cc:193] This TensorFlow binary is optimized with oneAPI Deep Neural Network Library (oneDNN) to use the following CPU instructions in performance-critical operations:  AVX2 AVX512F AVX512_VNNI FMA\n",
      "To enable them in other operations, rebuild TensorFlow with the appropriate compiler flags.\n",
      "2022-06-20 13:31:27.073943: I tensorflow/stream_executor/cuda/cuda_gpu_executor.cc:975] successful NUMA node read from SysFS had negative value (-1), but there must be at least one NUMA node, so returning NUMA node zero\n",
      "2022-06-20 13:31:27.074291: I tensorflow/stream_executor/cuda/cuda_gpu_executor.cc:975] successful NUMA node read from SysFS had negative value (-1), but there must be at least one NUMA node, so returning NUMA node zero\n",
      "2022-06-20 13:31:27.074525: I tensorflow/stream_executor/cuda/cuda_gpu_executor.cc:975] successful NUMA node read from SysFS had negative value (-1), but there must be at least one NUMA node, so returning NUMA node zero\n",
      "2022-06-20 13:31:27.704152: I tensorflow/stream_executor/cuda/cuda_gpu_executor.cc:975] successful NUMA node read from SysFS had negative value (-1), but there must be at least one NUMA node, so returning NUMA node zero\n",
      "2022-06-20 13:31:27.704352: I tensorflow/stream_executor/cuda/cuda_gpu_executor.cc:975] successful NUMA node read from SysFS had negative value (-1), but there must be at least one NUMA node, so returning NUMA node zero\n",
      "2022-06-20 13:31:27.704570: I tensorflow/stream_executor/cuda/cuda_gpu_executor.cc:975] successful NUMA node read from SysFS had negative value (-1), but there must be at least one NUMA node, so returning NUMA node zero\n",
      "2022-06-20 13:31:27.704684: I tensorflow/core/common_runtime/gpu/gpu_device.cc:1532] Created device /job:localhost/replica:0/task:0/device:GPU:0 with 3923 MB memory:  -> device: 0, name: NVIDIA GeForce GTX 1660 Ti with Max-Q Design, pci bus id: 0000:02:00.0, compute capability: 7.5\n"
     ]
    },
    {
     "name": "stdout",
     "output_type": "stream",
     "text": [
      "Model: \"lstm_network\"\n",
      "_________________________________________________________________\n",
      " Layer (type)                Output Shape              Param #   \n",
      "=================================================================\n",
      " x (InputLayer)              [(None, None, 59)]        0         \n",
      "                                                                 \n",
      " masking (Masking)           (None, None, 59)          0         \n",
      "                                                                 \n",
      " lstm (LSTM)                 (None, 128)               96256     \n",
      "                                                                 \n",
      " dense (Dense)               (None, 1)                 129       \n",
      "                                                                 \n",
      "=================================================================\n",
      "Total params: 96,385\n",
      "Trainable params: 96,385\n",
      "Non-trainable params: 0\n",
      "_________________________________________________________________\n"
     ]
    }
   ],
   "source": [
    "model = LSTMNetwork(layer_size=128, \n",
    "                    depth=1, \n",
    "                    dropout_rate=0, \n",
    "                    task=task,\n",
    "                    input_dim=59)\n",
    "\n",
    "with open(Path(os.getenv(\"CONFIG\"), \"mimic\", \"model_config.json\")) as file: \n",
    "    model_config = json.load(file)[\"lstm\"][task]\n",
    "\n",
    "metrics_switch = {\n",
    "    \"length_of_stay\": 'accuracy', # [CohenKappa(num_classes=10, sparse_labels=True)], \n",
    "    \"phenotyping\": [AUC(curve='ROC'), AUC(curve='PR')], \n",
    "    \"in_hospital_mortality\": [AUC(curve='ROC'), AUC(curve='PR')], \n",
    "    \"decompensation\": [AUC(curve='ROC'), AUC(curve='PR'), 'accuracy']\n",
    "}\n",
    "\n",
    "model.compile(optimizer='adam',\n",
    "              loss=model_config[\"loss\"],\n",
    "              metrics=metrics_switch[task])\n",
    "\n",
    "model.summary()"
   ]
  },
  {
   "cell_type": "code",
   "execution_count": 6,
   "id": "10339b68",
   "metadata": {},
   "outputs": [
    {
     "name": "stdout",
     "output_type": "stream",
     "text": [
      "Epoch 1/5\n"
     ]
    },
    {
     "name": "stderr",
     "output_type": "stream",
     "text": [
      "2022-06-20 13:31:31.878759: W tensorflow/core/common_runtime/forward_type_inference.cc:231] Type inference failed. This indicates an invalid graph that escaped type checking. Error message: INVALID_ARGUMENT: expected compatible input types, but input 1:\n",
      "type_id: TFT_OPTIONAL\n",
      "args {\n",
      "  type_id: TFT_PRODUCT\n",
      "  args {\n",
      "    type_id: TFT_TENSOR\n",
      "    args {\n",
      "      type_id: TFT_LEGACY_VARIANT\n",
      "    }\n",
      "  }\n",
      "}\n",
      " is neither a subtype nor a supertype of the combined inputs preceding it:\n",
      "type_id: TFT_OPTIONAL\n",
      "args {\n",
      "  type_id: TFT_PRODUCT\n",
      "  args {\n",
      "    type_id: TFT_TENSOR\n",
      "    args {\n",
      "      type_id: TFT_FLOAT\n",
      "    }\n",
      "  }\n",
      "}\n",
      "\n",
      "\twhile inferring type of node 'cond_40/output/_19'\n",
      "2022-06-20 13:31:32.566712: I tensorflow/stream_executor/cuda/cuda_dnn.cc:384] Loaded cuDNN version 8100\n"
     ]
    },
    {
     "name": "stdout",
     "output_type": "stream",
     "text": [
      "1112/1116 [============================>.] - ETA: 0s - loss: 0.1944 - auc_4: 0.6394 - auc_5: 0.0722 - accuracy: 0.9524"
     ]
    },
    {
     "name": "stderr",
     "output_type": "stream",
     "text": [
      "WARNING:absl:Found untraced functions such as lstm_cell_layer_call_fn, lstm_cell_layer_call_and_return_conditional_losses while saving (showing 2 of 2). These functions will not be directly callable after loading.\n"
     ]
    },
    {
     "name": "stdout",
     "output_type": "stream",
     "text": [
      "INFO:tensorflow:Assets written to: /work/model/mimic/assets\n"
     ]
    },
    {
     "name": "stderr",
     "output_type": "stream",
     "text": [
      "INFO:tensorflow:Assets written to: /work/model/mimic/assets\n"
     ]
    },
    {
     "name": "stdout",
     "output_type": "stream",
     "text": [
      "1116/1116 [==============================] - 51s 42ms/step - loss: 0.2016 - auc_4: 0.6278 - auc_5: 0.0716 - accuracy: 0.9509\n",
      "Epoch 2/5\n",
      "1113/1116 [============================>.] - ETA: 0s - loss: 0.1476 - auc_4: 0.7755 - auc_5: 0.1481 - accuracy: 0.9600"
     ]
    },
    {
     "name": "stderr",
     "output_type": "stream",
     "text": [
      "WARNING:absl:Found untraced functions such as lstm_cell_layer_call_fn, lstm_cell_layer_call_and_return_conditional_losses while saving (showing 2 of 2). These functions will not be directly callable after loading.\n"
     ]
    },
    {
     "name": "stdout",
     "output_type": "stream",
     "text": [
      "INFO:tensorflow:Assets written to: /work/model/mimic/assets\n"
     ]
    },
    {
     "name": "stderr",
     "output_type": "stream",
     "text": [
      "INFO:tensorflow:Assets written to: /work/model/mimic/assets\n"
     ]
    },
    {
     "name": "stdout",
     "output_type": "stream",
     "text": [
      "1116/1116 [==============================] - 47s 42ms/step - loss: 0.1511 - auc_4: 0.7664 - auc_5: 0.1462 - accuracy: 0.9593\n",
      "Epoch 3/5\n",
      "1114/1116 [============================>.] - ETA: 0s - loss: 0.1375 - auc_4: 0.7998 - auc_5: 0.2986 - accuracy: 0.9625"
     ]
    },
    {
     "name": "stderr",
     "output_type": "stream",
     "text": [
      "WARNING:absl:Found untraced functions such as lstm_cell_layer_call_fn, lstm_cell_layer_call_and_return_conditional_losses while saving (showing 2 of 2). These functions will not be directly callable after loading.\n"
     ]
    },
    {
     "name": "stdout",
     "output_type": "stream",
     "text": [
      "INFO:tensorflow:Assets written to: /work/model/mimic/assets\n"
     ]
    },
    {
     "name": "stderr",
     "output_type": "stream",
     "text": [
      "INFO:tensorflow:Assets written to: /work/model/mimic/assets\n"
     ]
    },
    {
     "name": "stdout",
     "output_type": "stream",
     "text": [
      "1116/1116 [==============================] - 47s 42ms/step - loss: 0.1373 - auc_4: 0.8001 - auc_5: 0.2986 - accuracy: 0.9625\n",
      "Epoch 4/5\n",
      "1115/1116 [============================>.] - ETA: 0s - loss: 0.1279 - auc_4: 0.8376 - auc_5: 0.3907 - accuracy: 0.9629"
     ]
    },
    {
     "name": "stderr",
     "output_type": "stream",
     "text": [
      "WARNING:absl:Found untraced functions such as lstm_cell_layer_call_fn, lstm_cell_layer_call_and_return_conditional_losses while saving (showing 2 of 2). These functions will not be directly callable after loading.\n"
     ]
    },
    {
     "name": "stdout",
     "output_type": "stream",
     "text": [
      "INFO:tensorflow:Assets written to: /work/model/mimic/assets\n"
     ]
    },
    {
     "name": "stderr",
     "output_type": "stream",
     "text": [
      "INFO:tensorflow:Assets written to: /work/model/mimic/assets\n"
     ]
    },
    {
     "name": "stdout",
     "output_type": "stream",
     "text": [
      "1116/1116 [==============================] - 48s 43ms/step - loss: 0.1278 - auc_4: 0.8378 - auc_5: 0.3907 - accuracy: 0.9629\n",
      "Epoch 5/5\n",
      "1116/1116 [==============================] - ETA: 0s - loss: 0.1099 - auc_4: 0.8706 - auc_5: 0.5289 - accuracy: 0.9678"
     ]
    },
    {
     "name": "stderr",
     "output_type": "stream",
     "text": [
      "WARNING:absl:Found untraced functions such as lstm_cell_layer_call_fn, lstm_cell_layer_call_and_return_conditional_losses while saving (showing 2 of 2). These functions will not be directly callable after loading.\n"
     ]
    },
    {
     "name": "stdout",
     "output_type": "stream",
     "text": [
      "INFO:tensorflow:Assets written to: /work/model/mimic/assets\n"
     ]
    },
    {
     "name": "stderr",
     "output_type": "stream",
     "text": [
      "INFO:tensorflow:Assets written to: /work/model/mimic/assets\n"
     ]
    },
    {
     "name": "stdout",
     "output_type": "stream",
     "text": [
      "\b\b\b\b\b\b\b\b\b\b\b\b\b\b\b\b\b\b\b\b\b\b\b\b\b\b\b\b\b\b\b\b\b\b\b\b\b\b\b\b\b\b\b\b\b\b\b\b\b\b\b\b\b\b\b\b\b\b\b\b\b\b\b\b\b\b\b\b\b\b\b\b\b\b\b\b\b\b\b\b\b\b\b\b\b\b\b\b\b\b\b\b\b\b\b\b\b\b\b\b\b\b\b\b\b\b\b\b\b\b\b\b\b\b\b\b\b\b\r",
      "1116/1116 [==============================] - 50s 44ms/step - loss: 0.1099 - auc_4: 0.8706 - auc_5: 0.5289 - accuracy: 0.9678\n"
     ]
    },
    {
     "data": {
      "text/plain": [
       "<keras.callbacks.History at 0x7f6d31514d30>"
      ]
     },
     "execution_count": 6,
     "metadata": {},
     "output_type": "execute_result"
    }
   ],
   "source": [
    "model.fit(train_generator,\n",
    "          steps_per_epoch=train_generator.steps,\n",
    "          epochs=5,\n",
    "          callbacks=[saver]\n",
    "          )"
   ]
  },
  {
   "cell_type": "code",
   "execution_count": 7,
   "id": "ee036ea3",
   "metadata": {},
   "outputs": [
    {
     "name": "stdout",
     "output_type": "stream",
     "text": [
      "226/226 [==============================] - 10s 41ms/step - loss: 0.1239 - auc_4: 0.8756 - auc_5: 0.4385 - accuracy: 0.9649\n"
     ]
    }
   ],
   "source": [
    "prediction = model.evaluate(test_generator, \n",
    "                            steps=test_generator.steps)"
   ]
  },
  {
   "cell_type": "markdown",
   "id": "8cc7b722",
   "metadata": {},
   "source": [
    "# Calibration\n",
    "\n",
    "Now that the model is available, we can test its calibration characteristics. For this, we will make use of the netcal library, which has implemented most of the necessary functionalities ans sklearn.\n",
    "\n",
    "First lets have a look at the uncalibrated model. To do so, we need to extract the test set into a usable format."
   ]
  },
  {
   "cell_type": "code",
   "execution_count": 64,
   "id": "19fb155a",
   "metadata": {},
   "outputs": [],
   "source": [
    "# Extract training data as vector in single pass\n",
    "y_true = list()\n",
    "y_pred = list()\n",
    "X_sample = list()\n",
    "\n",
    "for index in enumerate(range(test_generator.steps)):\n",
    "    X, y = test_generator.next()\n",
    "    X_sample.extend(X)\n",
    "    y_pred.extend(model.predict(X, verbose=0))\n",
    "    y_true.extend(y)"
   ]
  },
  {
   "cell_type": "code",
   "execution_count": 66,
   "id": "48b80d8b",
   "metadata": {},
   "outputs": [],
   "source": [
    "# Concatenate prediction into single big vector\n",
    "confidences = np.array([float(pred) for pred in y_pred])"
   ]
  },
  {
   "cell_type": "markdown",
   "id": "cf3d1468",
   "metadata": {},
   "source": [
    "## Uncalibrated Model\n",
    "Let us compute the reliablity diagramm and the confidence histogramm."
   ]
  },
  {
   "cell_type": "code",
   "execution_count": 77,
   "id": "e2d8bc2f",
   "metadata": {},
   "outputs": [],
   "source": [
    "from netcal.metrics import ECE\n",
    "from sklearn.calibration import calibration_curve, CalibrationDisplay\n",
    "\n",
    "n_bins = 2\n",
    "\n",
    "ece = ECE(n_bins)\n",
    "uncalibrated_score = ece.measure(confidences, np.array(y_true))"
   ]
  },
  {
   "cell_type": "code",
   "execution_count": 110,
   "id": "673be2bf",
   "metadata": {},
   "outputs": [
    {
     "name": "stdout",
     "output_type": "stream",
     "text": [
      "uncalibrated_score: 0.01705296351981983\n"
     ]
    }
   ],
   "source": [
    "print(f\"uncalibrated_score: {uncalibrated_score}\")"
   ]
  },
  {
   "cell_type": "code",
   "execution_count": 149,
   "id": "0e1f678e",
   "metadata": {},
   "outputs": [
    {
     "data": {
      "text/plain": [
       "Text(0, 0.5, 'Count')"
      ]
     },
     "execution_count": 149,
     "metadata": {},
     "output_type": "execute_result"
    },
    {
     "data": {
      "image/png": "[encoded data removed]",
      "text/plain": [
       "<Figure size 432x288 with 1 Axes>"
      ]
     },
     "metadata": {
      "needs_background": "light"
     },
     "output_type": "display_data"
    },
    {
     "data": {
      "image/png": "[encoded data removed]",
      "text/plain": [
       "<Figure size 432x288 with 1 Axes>"
      ]
     },
     "metadata": {
      "needs_background": "light"
     },
     "output_type": "display_data"
    }
   ],
   "source": [
    "disp = CalibrationDisplay.from_predictions(y_true, y_pred)\n",
    "plt.figure()\n",
    "plt.hist(disp.y_prob, range=(0, 1), bins=10)\n",
    "plt.title(\"uncalibrated\")\n",
    "plt.xlabel(\"Mean predicted probability\")\n",
    "plt.ylabel(\"Count\")"
   ]
  },
  {
   "cell_type": "markdown",
   "id": "240b2337",
   "metadata": {},
   "source": [
    "## Calibrated Model\n",
    "Next, we repeat the operation for different calibration methods.\n",
    "The methods are:\n",
    "* Temperature Scaling\n",
    "* Beta Calibration\n",
    "* Logistic Calibration\n",
    "* Histogram Binning\n",
    "* Isotonic Regression"
   ]
  },
  {
   "cell_type": "code",
   "execution_count": 128,
   "id": "9b6a986e",
   "metadata": {},
   "outputs": [],
   "source": [
    "from netcal.scaling import TemperatureScaling, BetaCalibration, LogisticCalibration\n",
    "from netcal.binning import HistogramBinning, IsotonicRegression \n",
    "from matplotlib.gridspec import GridSpec"
   ]
  },
  {
   "cell_type": "code",
   "execution_count": 147,
   "id": "94a19818",
   "metadata": {},
   "outputs": [
    {
     "data": {
      "image/png": "[encoded data removed]",
      "text/plain": [
       "<Figure size 720x720 with 1 Axes>"
      ]
     },
     "metadata": {
      "needs_background": "light"
     },
     "output_type": "display_data"
    },
    {
     "data": {
      "image/png": "[encoded data removed]",
      "text/plain": [
       "<Figure size 1440x1440 with 5 Axes>"
      ]
     },
     "metadata": {
      "needs_background": "light"
     },
     "output_type": "display_data"
    }
   ],
   "source": [
    "methods = [TemperatureScaling, BetaCalibration, LogisticCalibration, HistogramBinning, IsotonicRegression]\n",
    "names = [\"Temperature Scaling\", \n",
    "         \"Beta Calibration\", \n",
    "         \"Logistic Calibration\", \n",
    "         \"Histogram Binning\", \n",
    "         \"Isotonic Regression\"]\n",
    "\n",
    "grid_positions = [(2, 0), (2, 1), (3, 0), (3, 1), (4, 0)]\n",
    "fig = plt.figure(figsize=(10, 10))\n",
    "gs = GridSpec(5, 2)\n",
    "colors = plt.cm.get_cmap(\"Dark2\")\n",
    "ax_calibration_curve = fig.add_subplot(gs[:2, :2])\n",
    "\n",
    "calibration_displays = dict()\n",
    "calibration_metrics = dict()\n",
    "\n",
    "for i, (method, name) in enumerate(zip(methods, names)):\n",
    "    method_obj = method()\n",
    "    method_obj.fit(confidences, np.array(y_true))\n",
    "    \n",
    "    calibrated = method_obj.transform(confidences)\n",
    "    calibrated_score = ece.measure(confidences, calibrated)\n",
    "    \n",
    "    calibration_metrics[name] = calibrated_score\n",
    "    \n",
    "    row, col = grid_positions[i]\n",
    "    \n",
    "    display = CalibrationDisplay.from_predictions(y_true,\n",
    "                                                  calibrated,\n",
    "                                                  n_bins=10,\n",
    "                                                  name=name,\n",
    "                                                  ax=ax_calibration_curve,\n",
    "                                                  color=colors(i))\n",
    "    \n",
    "    calibration_displays[name] = display\n",
    "    \n",
    "fig = plt.figure(figsize=(20, 20))\n",
    "plt.subplots_adjust(left=0.1,\n",
    "                    bottom=0.1, \n",
    "                    right=0.9, \n",
    "                    top=0.9, \n",
    "                    wspace=0.4, \n",
    "                    hspace=0.4)\n",
    "    \n",
    "for i, name in enumerate(names):\n",
    "    row, col = grid_positions[i]\n",
    "    ax = fig.add_subplot(gs[row, col])\n",
    "    ax.hist(calibration_displays[name].y_prob,\n",
    "            range=(0, 1),\n",
    "            bins=10,\n",
    "            label=name,\n",
    "            color=colors(i))\n",
    "    \n",
    "    ax.set(title=name, \n",
    "           xlabel=\"Mean predicted probability\", \n",
    "           ylabel=\"Count\")\n",
    "\n",
    "    "
   ]
  },
  {
   "cell_type": "code",
   "execution_count": 148,
   "id": "5f4e3885",
   "metadata": {},
   "outputs": [
    {
     "data": {
      "text/plain": [
       "{'Temperature Scaling': 0.022140120053667202,\n",
       " 'Beta Calibration': 0.022140120053667202,\n",
       " 'Logistic Calibration': 0.022140120053667202,\n",
       " 'Histogram Binning': 0.022140120053667202,\n",
       " 'IsotonicRegression': 0.022140120053667202}"
      ]
     },
     "execution_count": 148,
     "metadata": {},
     "output_type": "execute_result"
    }
   ],
   "source": [
    "calibration_metrics"
   ]
  },
  {
   "cell_type": "markdown",
   "id": "74d9a8c1",
   "metadata": {},
   "source": [
    "We see the highest variance in beta scaling and temperature scaling, while isotonic regression reaches optimal calibration."
   ]
  },
  {
   "cell_type": "code",
   "execution_count": null,
   "id": "c084bf2c",
   "metadata": {},
   "outputs": [],
   "source": []
  }
 ],
 "metadata": {
  "kernelspec": {
   "display_name": "Python 3 (ipykernel)",
   "language": "python",
   "name": "python3"
  },
  "language_info": {
   "codemirror_mode": {
    "name": "ipython",
    "version": 3
   },
   "file_extension": ".py",
   "mimetype": "text/x-python",
   "name": "python",
   "nbconvert_exporter": "python",
   "pygments_lexer": "ipython3",
   "version": "3.8.10"
  }
 },
 "nbformat": 4,
 "nbformat_minor": 5
}
