{
 "cells": [
  {
   "cell_type": "code",
   "execution_count": 1,
   "id": "9a66215b",
   "metadata": {},
   "outputs": [
    {
     "name": "stderr",
     "output_type": "stream",
     "text": [
      "2022-07-30 08:47:35.437010: I tensorflow/core/util/util.cc:169] oneDNN custom operations are on. You may see slightly different numerical results due to floating-point round-off errors from different computation orders. To turn them off, set the environment variable `TF_ENABLE_ONEDNN_OPTS=0`.\n",
      "2022-07-30 08:47:37.212041: I tensorflow/stream_executor/cuda/cuda_gpu_executor.cc:975] successful NUMA node read from SysFS had negative value (-1), but there must be at least one NUMA node, so returning NUMA node zero\n",
      "2022-07-30 08:47:37.216905: I tensorflow/stream_executor/cuda/cuda_gpu_executor.cc:975] successful NUMA node read from SysFS had negative value (-1), but there must be at least one NUMA node, so returning NUMA node zero\n",
      "2022-07-30 08:47:37.217108: I tensorflow/stream_executor/cuda/cuda_gpu_executor.cc:975] successful NUMA node read from SysFS had negative value (-1), but there must be at least one NUMA node, so returning NUMA node zero\n"
     ]
    }
   ],
   "source": [
    "import pdb\n",
    "import os\n",
    "import json\n",
    "from pathlib import Path\n",
    "from keras.callbacks import ModelCheckpoint\n",
    "from tensorflow.keras.metrics import AUC\n",
    "\n",
    "import datasets.mimic\n",
    "from preprocessing.mimic import Preprocessor\n",
    "from preprocessing import Discretizer, BatchGenerator, Normalizer\n",
    "from models.lstm import LSTMNetwork\n",
    "from utils.IO import *\n",
    "from importlib import reload\n",
    "import pipeline.mimic as pipeline"
   ]
  },
  {
   "cell_type": "code",
   "execution_count": 2,
   "id": "7b6718b5",
   "metadata": {},
   "outputs": [
    {
     "name": "stdout",
     "output_type": "stream",
     "text": [
      "INFO - 2022-07-30 08:47:38:datasets/mimic.py:L 51 - task data\n"
     ]
    }
   ],
   "source": [
    "(timeseries,\n",
    " episodic_data,\n",
    " subject_events,\n",
    " subject_diagnoses,\n",
    " subject_icu_history) = datasets.mimic.load_data(path=Path(os.getenv(\"DATA\"), \"mimic-iii-demo\"))"
   ]
  },
  {
   "cell_type": "markdown",
   "id": "89250d42",
   "metadata": {},
   "source": [
    "## Decompensation"
   ]
  },
  {
   "cell_type": "code",
   "execution_count": 17,
   "id": "31b2e010",
   "metadata": {},
   "outputs": [],
   "source": [
    "model_config = {\n",
    "    \"layer_size\": 128,\n",
    "    \"input_dim\": 59,\n",
    "    \"depth\": 1,\n",
    "    \"dropout_rate\": 0,\n",
    "    \"task\": \"decompensation\"\n",
    "}\n",
    "\n",
    "pipeline_config = {\n",
    "    \"model_name\": \"calibration_binned_lstm\",\n",
    "    \"batch_size\": 8,\n",
    "    \"epochs\": 5,\n",
    "    \"validation_fraction_split\": 0.2,\n",
    "    \"test_fraction_split\": 0.2,\n",
    "    \"task\": \"decompensation\",\n",
    "    \"output_type\": \"one-hot\",\n",
    "    \"compiler_config\" : {\n",
    "        \"optimizer\": \"adam\",\n",
    "        \"metrics\": [\n",
    "            AUC(curve='ROC'), \n",
    "            AUC(curve='PR')\n",
    "        ],\n",
    "        \"loss\": \"binary_crossentropy\",\n",
    "        \"run_eagerly\": True\n",
    "    }\n",
    "}"
   ]
  },
  {
   "cell_type": "code",
   "execution_count": 4,
   "id": "c33cd103",
   "metadata": {},
   "outputs": [],
   "source": [
    "model = LSTMNetwork(**model_config)"
   ]
  },
  {
   "cell_type": "code",
   "execution_count": 5,
   "id": "ea043c66",
   "metadata": {},
   "outputs": [],
   "source": [
    "reload(pipeline)\n",
    "pipe = pipeline.MIMICPipeline(model, **pipeline_config)"
   ]
  },
  {
   "cell_type": "code",
   "execution_count": 6,
   "id": "e9fbd2a4",
   "metadata": {},
   "outputs": [
    {
     "name": "stdout",
     "output_type": "stream",
     "text": [
      "INFO - 2022-07-30 08:47:44:pipeline/mimic.py:L 132 - Preprocessing data.\n",
      "INFO - 2022-07-30 08:47:44:preprocessing/mimic.py:L 60 - Only type available for this task is binary! Argument disregarded\n",
      "INFO - 2022-07-30 08:47:44:pipeline/mimic.py:L 147 - Done.\n",
      "INFO - 2022-07-30 08:47:44:pipeline/mimic.py:L 148 - Splitting Dataset.\n",
      "INFO - 2022-07-30 08:47:44:pipeline/mimic.py:L 106 - Done.\n",
      "INFO - 2022-07-30 08:47:45:pipeline/mimic.py:L 112 - Starting model run for model: calibration_binned_lstm!\n",
      "INFO - 2022-07-30 08:47:46:preprocessing/__init__.py:L 464 - Done computing new normalizer in 1.1157379150390625!\n",
      "Model: \"lstm_network\"\n",
      "_________________________________________________________________\n",
      " Layer (type)                Output Shape              Param #   \n",
      "=================================================================\n",
      " x (InputLayer)              [(None, None, 59)]        0         \n",
      "                                                                 \n",
      " masking (Masking)           (None, None, 59)          0         \n",
      "                                                                 \n",
      " lstm (LSTM)                 (None, 128)               96256     \n",
      "                                                                 \n",
      " dense (Dense)               (None, 1)                 129       \n",
      "                                                                 \n",
      "=================================================================\n",
      "Total params: 96,385\n",
      "Trainable params: 96,385\n",
      "Non-trainable params: 0\n",
      "_________________________________________________________________\n",
      "INFO - 2022-07-30 08:47:46:models/management.py:L 34 - Loading model from epoch 5.\n"
     ]
    },
    {
     "name": "stderr",
     "output_type": "stream",
     "text": [
      "2022-07-30 08:47:46.538185: W tensorflow/core/common_runtime/graph_constructor.cc:805] Node 'cond/while' has 13 outputs but the _output_shapes attribute specifies shapes for 46 outputs. Output shapes may be inaccurate.\n",
      "2022-07-30 08:47:46.889878: W tensorflow/core/common_runtime/graph_constructor.cc:805] Node 'cond/while' has 13 outputs but the _output_shapes attribute specifies shapes for 46 outputs. Output shapes may be inaccurate.\n",
      "2022-07-30 08:47:47.626021: W tensorflow/core/common_runtime/graph_constructor.cc:805] Node 'cond/while' has 13 outputs but the _output_shapes attribute specifies shapes for 46 outputs. Output shapes may be inaccurate.\n",
      "2022-07-30 08:47:47.697682: W tensorflow/core/common_runtime/graph_constructor.cc:805] Node 'cond' has 5 outputs but the _output_shapes attribute specifies shapes for 46 outputs. Output shapes may be inaccurate.\n",
      "2022-07-30 08:47:47.921379: W tensorflow/core/common_runtime/graph_constructor.cc:805] Node 'cond' has 5 outputs but the _output_shapes attribute specifies shapes for 46 outputs. Output shapes may be inaccurate.\n",
      "2022-07-30 08:47:48.728928: W tensorflow/core/common_runtime/graph_constructor.cc:805] Node 'cond' has 5 outputs but the _output_shapes attribute specifies shapes for 46 outputs. Output shapes may be inaccurate.\n"
     ]
    },
    {
     "data": {
      "text/plain": [
       "(<keras.engine.functional.Functional at 0x7f849f9cc220>,\n",
       " {'loss': [0.1797352284193039,\n",
       "   0.15525437891483307,\n",
       "   0.1743604987859726,\n",
       "   0.1552954614162445,\n",
       "   0.13930876553058624],\n",
       "  'auc': [0.7675968408584595,\n",
       "   0.7870179414749146,\n",
       "   0.7437000870704651,\n",
       "   0.8241355419158936,\n",
       "   0.8607197403907776],\n",
       "  'auc_1': [0.21569505333900452,\n",
       "   0.3182716369628906,\n",
       "   0.1341119259595871,\n",
       "   0.2636941373348236,\n",
       "   0.3413001000881195],\n",
       "  'val_loss': [0.13245631754398346,\n",
       "   0.18726575374603271,\n",
       "   0.17508463561534882,\n",
       "   0.16281946003437042,\n",
       "   0.16025519371032715],\n",
       "  'val_auc': [0.772861897945404,\n",
       "   0.6678614020347595,\n",
       "   0.7447481155395508,\n",
       "   0.7446691989898682,\n",
       "   0.6998083591461182],\n",
       "  'val_auc_1': [0.299835741519928,\n",
       "   0.07273832708597183,\n",
       "   0.1260901242494583,\n",
       "   0.15489760041236877,\n",
       "   0.27268698811531067],\n",
       "  'lr': [0.0010000000474974513,\n",
       "   0.0010000000474974513,\n",
       "   0.0010000000474974513,\n",
       "   0.0010000000474974513,\n",
       "   0.0010000000474974513],\n",
       "  'finished': True,\n",
       "  'score': [0.1017952561378479, 0.9247388243675232, 0.4505854845046997]})"
      ]
     },
     "execution_count": 6,
     "metadata": {},
     "output_type": "execute_result"
    }
   ],
   "source": [
    "reload(pipeline)\n",
    "pipe = pipeline.MIMICPipeline(model, **pipeline_config)\n",
    "model, history = pipe.fit(timeseries,\n",
    "                          episodic_data,\n",
    "                          subject_diagnoses,\n",
    "                          subject_icu_history)"
   ]
  },
  {
   "cell_type": "code",
   "execution_count": 7,
   "id": "e33552e6",
   "metadata": {},
   "outputs": [
    {
     "name": "stdout",
     "output_type": "stream",
     "text": [
      "INFO - 2022-07-30 08:47:50:pipeline/mimic.py:L 268 - Evaluating model.\n"
     ]
    },
    {
     "name": "stderr",
     "output_type": "stream",
     "text": [
      "2022-07-30 08:47:50.981939: I tensorflow/stream_executor/cuda/cuda_dnn.cc:384] Loaded cuDNN version 8100\n"
     ]
    },
    {
     "name": "stdout",
     "output_type": "stream",
     "text": [
      "260/260 [==============================] - 10s 33ms/step - loss: 0.2168 - auc: 0.8082 - auc_1: 0.2855\n",
      "INFO - 2022-07-30 08:48:00:pipeline/mimic.py:L 275 - Evaluation complete.\n"
     ]
    },
    {
     "data": {
      "text/plain": [
       "[0.21682950854301453, 0.8081772327423096, 0.28546610474586487]"
      ]
     },
     "execution_count": 7,
     "metadata": {},
     "output_type": "execute_result"
    },
    {
     "data": {
      "image/png": "[encoded data removed]",
      "text/plain": [
       "<Figure size 432x288 with 1 Axes>"
      ]
     },
     "metadata": {
      "needs_background": "light"
     },
     "output_type": "display_data"
    }
   ],
   "source": [
    "pipe.score()"
   ]
  },
  {
   "cell_type": "markdown",
   "id": "f5311b0c",
   "metadata": {},
   "source": [
    "## In Hospital Mortality"
   ]
  },
  {
   "cell_type": "code",
   "execution_count": 18,
   "id": "efa0ab61",
   "metadata": {},
   "outputs": [],
   "source": [
    "model_config = {\n",
    "    \"layer_size\": 128,\n",
    "    \"input_dim\": 59,\n",
    "    \"depth\": 1,\n",
    "    \"dropout_rate\": 0,\n",
    "    \"task\": \"in_hospital_mortality\"\n",
    "}\n",
    "\n",
    "pipeline_config = {\n",
    "    \"model_name\": \"calibration_binned_lstm\",\n",
    "    \"batch_size\": 8,\n",
    "    \"epochs\": 5,\n",
    "    \"validation_fraction_split\": 0.2,\n",
    "    \"test_fraction_split\": 0.2,\n",
    "    \"task\": \"in_hospital_mortality\",\n",
    "    \"output_type\": \"one-hot\",\n",
    "    \"compiler_config\" : {\n",
    "        \"optimizer\": \"adam\",\n",
    "        \"metrics\": [\n",
    "            AUC(curve='ROC'), \n",
    "            AUC(curve='PR')\n",
    "        ],\n",
    "        \"loss\": \"binary_crossentropy\",\n",
    "        \"run_eagerly\": True\n",
    "    }\n",
    "}"
   ]
  },
  {
   "cell_type": "code",
   "execution_count": 9,
   "id": "e022f025",
   "metadata": {},
   "outputs": [
    {
     "name": "stdout",
     "output_type": "stream",
     "text": [
      "INFO - 2022-07-30 08:48:01:pipeline/mimic.py:L 132 - Preprocessing data.\n",
      "INFO - 2022-07-30 08:48:01:preprocessing/mimic.py:L 60 - Only type available for this task is binary! Argument disregarded\n",
      "INFO - 2022-07-30 08:48:01:pipeline/mimic.py:L 147 - Done.\n",
      "INFO - 2022-07-30 08:48:01:pipeline/mimic.py:L 148 - Splitting Dataset.\n",
      "INFO - 2022-07-30 08:48:01:pipeline/mimic.py:L 106 - Done.\n",
      "INFO - 2022-07-30 08:48:01:pipeline/mimic.py:L 112 - Starting model run for model: calibration_binned_lstm!\n",
      "INFO - 2022-07-30 08:48:02:preprocessing/__init__.py:L 464 - Done computing new normalizer in 0.7437176704406738!\n",
      "Model: \"lstm_network_1\"\n",
      "_________________________________________________________________\n",
      " Layer (type)                Output Shape              Param #   \n",
      "=================================================================\n",
      " x (InputLayer)              [(None, None, 59)]        0         \n",
      "                                                                 \n",
      " masking_1 (Masking)         (None, None, 59)          0         \n",
      "                                                                 \n",
      " lstm_1 (LSTM)               (None, 128)               96256     \n",
      "                                                                 \n",
      " dense_1 (Dense)             (None, 1)                 129       \n",
      "                                                                 \n",
      "=================================================================\n",
      "Total params: 96,385\n",
      "Trainable params: 96,385\n",
      "Non-trainable params: 0\n",
      "_________________________________________________________________\n",
      "INFO - 2022-07-30 08:48:02:pipeline/mimic.py:L 240 - Training model.\n",
      "Epoch 1/5\n",
      "55/55 [==============================] - ETA: 0s - loss: 0.5180 - auc_2: 0.7564 - auc_3: 0.5860"
     ]
    },
    {
     "name": "stderr",
     "output_type": "stream",
     "text": [
      "WARNING:absl:Found untraced functions such as lstm_cell_2_layer_call_fn, lstm_cell_2_layer_call_and_return_conditional_losses while saving (showing 2 of 2). These functions will not be directly callable after loading.\n"
     ]
    },
    {
     "name": "stdout",
     "output_type": "stream",
     "text": [
      "INFO:tensorflow:Assets written to: /work/model/mimic/calibration_binned_lstm/in_hospital_mortality/cp-0001.ckpt/assets\n"
     ]
    },
    {
     "name": "stderr",
     "output_type": "stream",
     "text": [
      "INFO:tensorflow:Assets written to: /work/model/mimic/calibration_binned_lstm/in_hospital_mortality/cp-0001.ckpt/assets\n"
     ]
    },
    {
     "name": "stdout",
     "output_type": "stream",
     "text": [
      "55/55 [==============================] - 7s 133ms/step - loss: 0.5180 - auc_2: 0.7564 - auc_3: 0.5860 - val_loss: 0.5680 - val_auc_2: 0.8571 - val_auc_3: 0.6951 - lr: 0.0010\n",
      "Epoch 2/5\n",
      "55/55 [==============================] - ETA: 0s - loss: 0.2497 - auc_2: 0.9479 - auc_3: 0.9351"
     ]
    },
    {
     "name": "stderr",
     "output_type": "stream",
     "text": [
      "WARNING:absl:Found untraced functions such as lstm_cell_2_layer_call_fn, lstm_cell_2_layer_call_and_return_conditional_losses while saving (showing 2 of 2). These functions will not be directly callable after loading.\n"
     ]
    },
    {
     "name": "stdout",
     "output_type": "stream",
     "text": [
      "INFO:tensorflow:Assets written to: /work/model/mimic/calibration_binned_lstm/in_hospital_mortality/cp-0002.ckpt/assets\n"
     ]
    },
    {
     "name": "stderr",
     "output_type": "stream",
     "text": [
      "INFO:tensorflow:Assets written to: /work/model/mimic/calibration_binned_lstm/in_hospital_mortality/cp-0002.ckpt/assets\n"
     ]
    },
    {
     "name": "stdout",
     "output_type": "stream",
     "text": [
      "55/55 [==============================] - 13s 247ms/step - loss: 0.2497 - auc_2: 0.9479 - auc_3: 0.9351 - val_loss: 0.9723 - val_auc_2: 0.7000 - val_auc_3: 0.5513 - lr: 0.0010\n",
      "Epoch 3/5\n",
      "55/55 [==============================] - ETA: 0s - loss: 0.4153 - auc_2: 0.8932 - auc_3: 0.6834"
     ]
    },
    {
     "name": "stderr",
     "output_type": "stream",
     "text": [
      "WARNING:absl:Found untraced functions such as lstm_cell_2_layer_call_fn, lstm_cell_2_layer_call_and_return_conditional_losses while saving (showing 2 of 2). These functions will not be directly callable after loading.\n"
     ]
    },
    {
     "name": "stdout",
     "output_type": "stream",
     "text": [
      "INFO:tensorflow:Assets written to: /work/model/mimic/calibration_binned_lstm/in_hospital_mortality/cp-0003.ckpt/assets\n"
     ]
    },
    {
     "name": "stderr",
     "output_type": "stream",
     "text": [
      "INFO:tensorflow:Assets written to: /work/model/mimic/calibration_binned_lstm/in_hospital_mortality/cp-0003.ckpt/assets\n"
     ]
    },
    {
     "name": "stdout",
     "output_type": "stream",
     "text": [
      "55/55 [==============================] - 16s 303ms/step - loss: 0.4153 - auc_2: 0.8932 - auc_3: 0.6834 - val_loss: 0.5791 - val_auc_2: 0.6571 - val_auc_3: 0.4949 - lr: 0.0010\n",
      "Epoch 4/5\n",
      "55/55 [==============================] - ETA: 0s - loss: 0.2384 - auc_2: 0.9567 - auc_3: 0.9424"
     ]
    },
    {
     "name": "stderr",
     "output_type": "stream",
     "text": [
      "WARNING:absl:Found untraced functions such as lstm_cell_2_layer_call_fn, lstm_cell_2_layer_call_and_return_conditional_losses while saving (showing 2 of 2). These functions will not be directly callable after loading.\n"
     ]
    },
    {
     "name": "stdout",
     "output_type": "stream",
     "text": [
      "INFO:tensorflow:Assets written to: /work/model/mimic/calibration_binned_lstm/in_hospital_mortality/cp-0004.ckpt/assets\n"
     ]
    },
    {
     "name": "stderr",
     "output_type": "stream",
     "text": [
      "INFO:tensorflow:Assets written to: /work/model/mimic/calibration_binned_lstm/in_hospital_mortality/cp-0004.ckpt/assets\n"
     ]
    },
    {
     "name": "stdout",
     "output_type": "stream",
     "text": [
      "55/55 [==============================] - 13s 241ms/step - loss: 0.2384 - auc_2: 0.9567 - auc_3: 0.9424 - val_loss: 0.5523 - val_auc_2: 0.7000 - val_auc_3: 0.5058 - lr: 0.0010\n",
      "Epoch 5/5\n",
      "55/55 [==============================] - ETA: 0s - loss: 0.1431 - auc_2: 0.9783 - auc_3: 0.9730"
     ]
    },
    {
     "name": "stderr",
     "output_type": "stream",
     "text": [
      "WARNING:absl:Found untraced functions such as lstm_cell_2_layer_call_fn, lstm_cell_2_layer_call_and_return_conditional_losses while saving (showing 2 of 2). These functions will not be directly callable after loading.\n"
     ]
    },
    {
     "name": "stdout",
     "output_type": "stream",
     "text": [
      "INFO:tensorflow:Assets written to: /work/model/mimic/calibration_binned_lstm/in_hospital_mortality/cp-0005.ckpt/assets\n"
     ]
    },
    {
     "name": "stderr",
     "output_type": "stream",
     "text": [
      "INFO:tensorflow:Assets written to: /work/model/mimic/calibration_binned_lstm/in_hospital_mortality/cp-0005.ckpt/assets\n"
     ]
    },
    {
     "name": "stdout",
     "output_type": "stream",
     "text": [
      "55/55 [==============================] - 12s 229ms/step - loss: 0.1431 - auc_2: 0.9783 - auc_3: 0.9730 - val_loss: 0.6488 - val_auc_2: 0.6786 - val_auc_3: 0.5172 - lr: 0.0010\n",
      "INFO - 2022-07-30 08:49:05:pipeline/mimic.py:L 256 - Training complete.\n"
     ]
    },
    {
     "data": {
      "text/plain": [
       "(<models.lstm.LSTMNetwork at 0x7f842432d1c0>,\n",
       " {'loss': [0.518030047416687,\n",
       "   0.2497100681066513,\n",
       "   0.4153306186199188,\n",
       "   0.23840026557445526,\n",
       "   0.14309507608413696],\n",
       "  'auc_2': [0.7564103007316589,\n",
       "   0.9479166269302368,\n",
       "   0.8931888937950134,\n",
       "   0.9566563963890076,\n",
       "   0.9783281683921814],\n",
       "  'auc_3': [0.5860397219657898,\n",
       "   0.9350727796554565,\n",
       "   0.6834068298339844,\n",
       "   0.9423657655715942,\n",
       "   0.9729966521263123],\n",
       "  'val_loss': [0.5679610371589661,\n",
       "   0.9723243713378906,\n",
       "   0.5790538787841797,\n",
       "   0.5522822141647339,\n",
       "   0.648795485496521],\n",
       "  'val_auc_2': [0.8571428656578064,\n",
       "   0.7000000476837158,\n",
       "   0.6571428179740906,\n",
       "   0.7000000476837158,\n",
       "   0.6785714626312256],\n",
       "  'val_auc_3': [0.6950691342353821,\n",
       "   0.5513409376144409,\n",
       "   0.4948577880859375,\n",
       "   0.5058379173278809,\n",
       "   0.5172205567359924],\n",
       "  'lr': [0.0010000000474974513,\n",
       "   0.0010000000474974513,\n",
       "   0.0010000000474974513,\n",
       "   0.0010000000474974513,\n",
       "   0.0010000000474974513],\n",
       "  'finished': True})"
      ]
     },
     "execution_count": 9,
     "metadata": {},
     "output_type": "execute_result"
    }
   ],
   "source": [
    "reload(pipeline)\n",
    "model = LSTMNetwork(**model_config)\n",
    "pipe = pipeline.MIMICPipeline(model, **pipeline_config)\n",
    "model, history = pipe.fit(timeseries,\n",
    "                          episodic_data,\n",
    "                          subject_diagnoses,\n",
    "                          subject_icu_history)"
   ]
  },
  {
   "cell_type": "code",
   "execution_count": 10,
   "id": "a2a19b54",
   "metadata": {},
   "outputs": [
    {
     "data": {
      "text/plain": [
       "(array([[0.01172867],\n",
       "        [0.00406829],\n",
       "        [0.96524274],\n",
       "        [0.97267514],\n",
       "        [0.00676647],\n",
       "        [0.01024164],\n",
       "        [0.03989933],\n",
       "        [0.9169811 ],\n",
       "        [0.00256965],\n",
       "        [0.05573267],\n",
       "        [0.00424007],\n",
       "        [0.06495912],\n",
       "        [0.00552245],\n",
       "        [0.098702  ],\n",
       "        [0.07846007],\n",
       "        [0.9670528 ],\n",
       "        [0.7674282 ],\n",
       "        [0.98666537],\n",
       "        [0.06075667],\n",
       "        [0.00677056],\n",
       "        [0.01300935],\n",
       "        [0.03718831],\n",
       "        [0.01032476],\n",
       "        [0.13851123],\n",
       "        [0.17891711],\n",
       "        [0.0054526 ],\n",
       "        [0.95251334],\n",
       "        [0.00953876],\n",
       "        [0.01718448],\n",
       "        [0.82166284],\n",
       "        [0.09671662],\n",
       "        [0.07960067],\n",
       "        [0.00751722],\n",
       "        [0.06056712],\n",
       "        [0.00797088],\n",
       "        [0.9761262 ],\n",
       "        [0.07157809],\n",
       "        [0.01879303],\n",
       "        [0.00953586],\n",
       "        [0.02022104],\n",
       "        [0.01580784],\n",
       "        [0.8534496 ],\n",
       "        [0.00719693],\n",
       "        [0.91876775],\n",
       "        [0.02156552],\n",
       "        [0.9470886 ],\n",
       "        [0.97675043],\n",
       "        [0.12637848],\n",
       "        [0.0222315 ],\n",
       "        [0.9482012 ],\n",
       "        [0.00470063],\n",
       "        [0.296681  ],\n",
       "        [0.0080397 ],\n",
       "        [0.91079426],\n",
       "        [0.85930574]], dtype=float32),\n",
       " array([0., 0., 1., 1., 0., 0., 0., 1., 0., 0., 0., 0., 0., 0., 0., 1., 1.,\n",
       "        1., 0., 0., 0., 0., 0., 0., 1., 0., 1., 0., 0., 1., 0., 0., 0., 0.,\n",
       "        0., 1., 0., 0., 0., 0., 0., 1., 0., 1., 0., 1., 1., 0., 0., 1., 0.,\n",
       "        0., 0., 1., 1.]))"
      ]
     },
     "execution_count": 10,
     "metadata": {},
     "output_type": "execute_result"
    }
   ],
   "source": [
    "y_pred, y_true = pipe.predict()"
   ]
  },
  {
   "cell_type": "markdown",
   "id": "3dfa42b1",
   "metadata": {},
   "source": [
    "## Phentoyping"
   ]
  },
  {
   "cell_type": "code",
   "execution_count": 19,
   "id": "5a1516b8",
   "metadata": {},
   "outputs": [],
   "source": [
    "model_config = {\n",
    "    \"layer_size\": 128,\n",
    "    \"input_dim\": 59,\n",
    "    \"depth\": 1,\n",
    "    \"dropout_rate\": 0,\n",
    "    \"task\": \"phenotyping\"\n",
    "}\n",
    "\n",
    "pipeline_config = {\n",
    "    \"model_name\": \"calibration_binned_lstm\",\n",
    "    \"batch_size\": 8,\n",
    "    \"epochs\": 5,\n",
    "    \"validation_fraction_split\": 0.2,\n",
    "    \"test_fraction_split\": 0.2,\n",
    "    \"task\": \"phenotyping\",\n",
    "    \"output_type\": \"one-hot\",\n",
    "    \"compiler_config\" : {\n",
    "        \"optimizer\": \"adam\",\n",
    "        \"metrics\": [\n",
    "            AUC(curve='ROC'), \n",
    "            AUC(curve='PR')\n",
    "        ],\n",
    "        \"loss\": \"categorical_crossentropy\",\n",
    "        \"run_eagerly\": True\n",
    "    }\n",
    "}"
   ]
  },
  {
   "cell_type": "code",
   "execution_count": 12,
   "id": "3be7960d",
   "metadata": {},
   "outputs": [
    {
     "name": "stdout",
     "output_type": "stream",
     "text": [
      "INFO - 2022-07-30 08:49:11:pipeline/mimic.py:L 132 - Preprocessing data.\n",
      "INFO - 2022-07-30 08:49:11:preprocessing/mimic.py:L 60 - Only type available for this task is binary! Argument disregarded\n",
      "INFO - 2022-07-30 08:49:13:pipeline/mimic.py:L 147 - Done.\n",
      "INFO - 2022-07-30 08:49:13:pipeline/mimic.py:L 148 - Splitting Dataset.\n",
      "INFO - 2022-07-30 08:49:13:pipeline/mimic.py:L 106 - Done.\n",
      "INFO - 2022-07-30 08:49:13:pipeline/mimic.py:L 112 - Starting model run for model: calibration_binned_lstm!\n",
      "INFO - 2022-07-30 08:49:15:preprocessing/__init__.py:L 464 - Done computing new normalizer in 1.5096397399902344!\n",
      "Model: \"lstm_network_2\"\n",
      "_________________________________________________________________\n",
      " Layer (type)                Output Shape              Param #   \n",
      "=================================================================\n",
      " x (InputLayer)              [(None, None, 59)]        0         \n",
      "                                                                 \n",
      " masking_2 (Masking)         (None, None, 59)          0         \n",
      "                                                                 \n",
      " lstm_2 (LSTM)               (None, 128)               96256     \n",
      "                                                                 \n",
      " dense_2 (Dense)             (None, 25)                3225      \n",
      "                                                                 \n",
      "=================================================================\n",
      "Total params: 99,481\n",
      "Trainable params: 99,481\n",
      "Non-trainable params: 0\n",
      "_________________________________________________________________\n",
      "INFO - 2022-07-30 08:49:15:models/management.py:L 34 - Loading model from epoch 5.\n"
     ]
    },
    {
     "name": "stderr",
     "output_type": "stream",
     "text": [
      "2022-07-30 08:49:15.789176: W tensorflow/core/common_runtime/graph_constructor.cc:805] Node 'cond/while' has 13 outputs but the _output_shapes attribute specifies shapes for 46 outputs. Output shapes may be inaccurate.\n",
      "2022-07-30 08:49:15.895050: W tensorflow/core/common_runtime/graph_constructor.cc:805] Node 'cond/while' has 13 outputs but the _output_shapes attribute specifies shapes for 46 outputs. Output shapes may be inaccurate.\n",
      "2022-07-30 08:49:16.464815: W tensorflow/core/common_runtime/graph_constructor.cc:805] Node 'cond/while' has 13 outputs but the _output_shapes attribute specifies shapes for 46 outputs. Output shapes may be inaccurate.\n",
      "2022-07-30 08:49:16.488984: W tensorflow/core/common_runtime/graph_constructor.cc:805] Node 'cond' has 5 outputs but the _output_shapes attribute specifies shapes for 46 outputs. Output shapes may be inaccurate.\n",
      "2022-07-30 08:49:16.838843: W tensorflow/core/common_runtime/graph_constructor.cc:805] Node 'cond' has 5 outputs but the _output_shapes attribute specifies shapes for 46 outputs. Output shapes may be inaccurate.\n",
      "2022-07-30 08:49:16.955969: W tensorflow/core/common_runtime/graph_constructor.cc:805] Node 'cond' has 5 outputs but the _output_shapes attribute specifies shapes for 46 outputs. Output shapes may be inaccurate.\n"
     ]
    },
    {
     "data": {
      "text/plain": [
       "(<keras.engine.functional.Functional at 0x7f8410588730>,\n",
       " {'loss': [13.500287055969238,\n",
       "   15.130118370056152,\n",
       "   15.88117504119873,\n",
       "   16.23723793029785,\n",
       "   17.159381866455078],\n",
       "  'auc_10': [0.6054967641830444,\n",
       "   0.6524126529693604,\n",
       "   0.6661238670349121,\n",
       "   0.6713724732398987,\n",
       "   0.6669023036956787],\n",
       "  'auc_11': [0.21380849182605743,\n",
       "   0.22422680258750916,\n",
       "   0.2486753612756729,\n",
       "   0.2525149881839752,\n",
       "   0.25612854957580566],\n",
       "  'val_loss': [11.287410736083984,\n",
       "   8.252262115478516,\n",
       "   8.65064525604248,\n",
       "   8.797385215759277,\n",
       "   9.035317420959473],\n",
       "  'val_auc_10': [0.6196891665458679,\n",
       "   0.7296846508979797,\n",
       "   0.7227107286453247,\n",
       "   0.7333232164382935,\n",
       "   0.7332221269607544],\n",
       "  'val_auc_11': [0.16470082104206085,\n",
       "   0.20795513689517975,\n",
       "   0.17753392457962036,\n",
       "   0.18821518123149872,\n",
       "   0.18402473628520966],\n",
       "  'lr': [0.0010000000474974513,\n",
       "   0.0010000000474974513,\n",
       "   0.0010000000474974513,\n",
       "   0.0010000000474974513,\n",
       "   0.0010000000474974513],\n",
       "  'finished': True,\n",
       "  'score': [18.038551330566406, 0.6665856838226318, 0.267721563577652]})"
      ]
     },
     "execution_count": 12,
     "metadata": {},
     "output_type": "execute_result"
    }
   ],
   "source": [
    "reload(pipeline)\n",
    "model = LSTMNetwork(**model_config)\n",
    "pipe = pipeline.MIMICPipeline(model, **pipeline_config)\n",
    "model, history = pipe.fit(timeseries,\n",
    "                          episodic_data,\n",
    "                          subject_diagnoses,\n",
    "                          subject_icu_history)"
   ]
  },
  {
   "cell_type": "code",
   "execution_count": 13,
   "id": "2319762d",
   "metadata": {
    "scrolled": true
   },
   "outputs": [
    {
     "name": "stdout",
     "output_type": "stream",
     "text": [
      "INFO - 2022-07-30 08:49:18:pipeline/mimic.py:L 268 - Evaluating model.\n",
      "12/12 [==============================] - 1s 94ms/step - loss: 21.8894 - auc_4: 0.6823 - auc_5: 0.3284\n",
      "INFO - 2022-07-30 08:49:19:pipeline/mimic.py:L 275 - Evaluation complete.\n"
     ]
    },
    {
     "data": {
      "text/plain": [
       "[21.88938331604004, 0.6822569370269775, 0.3283919095993042]"
      ]
     },
     "execution_count": 13,
     "metadata": {},
     "output_type": "execute_result"
    },
    {
     "data": {
      "image/png": "[encoded data removed]",
      "text/plain": [
       "<Figure size 432x288 with 1 Axes>"
      ]
     },
     "metadata": {
      "needs_background": "light"
     },
     "output_type": "display_data"
    }
   ],
   "source": [
    "pipe.score()"
   ]
  },
  {
   "cell_type": "markdown",
   "id": "7a99ff66",
   "metadata": {},
   "source": [
    "## Lenght of Stay Prediction"
   ]
  },
  {
   "cell_type": "code",
   "execution_count": 14,
   "id": "476e8d90",
   "metadata": {},
   "outputs": [],
   "source": [
    "model_config[\"task\"] = \"length_of_stay\"\n",
    "pipeline_config[\"task\"] = \"length_of_stay\"\n",
    "pipeline_config[\"subset_size\"] = 100\n",
    "pipeline_config[\"compiler_config\"][\"loss\"] = \"categorical_crossentropy\"\n",
    "pipeline_config[\"compiler_config\"][\"metrics\"] = [\"accuracy\"]\n",
    "model_config = {\n",
    "    \"layer_size\": 128,\n",
    "    \"input_dim\": 59,\n",
    "    \"depth\": 1,\n",
    "    \"dropout_rate\": 0,\n",
    "    \"task\": \"length_of_stay\"\n",
    "}\n",
    "\n",
    "pipeline_config = {\n",
    "    \"model_name\": \"calibration_binned_lstm\",\n",
    "    \"batch_size\": 8,\n",
    "    \"epochs\": 5,\n",
    "    \"validation_fraction_split\": 0.2,\n",
    "    \"test_fraction_split\": 0.2,\n",
    "    \"task\": \"length_of_stay\",\n",
    "    \"output_type\": \"one-hot\",\n",
    "    \"compiler_config\" : {\n",
    "        \"optimizer\": \"adam\",\n",
    "        \"metrics\": [\"accuracy\"],\n",
    "        \"loss\": \"categorical_crossentropy\",\n",
    "        \"run_eagerly\": True\n",
    "    }\n",
    "}"
   ]
  },
  {
   "cell_type": "code",
   "execution_count": 15,
   "id": "b95e237b",
   "metadata": {},
   "outputs": [
    {
     "name": "stdout",
     "output_type": "stream",
     "text": [
      "INFO - 2022-07-30 08:49:20:pipeline/mimic.py:L 132 - Preprocessing data.\n",
      "INFO - 2022-07-30 08:49:21:pipeline/mimic.py:L 147 - Done.\n",
      "INFO - 2022-07-30 08:49:21:pipeline/mimic.py:L 148 - Splitting Dataset.\n",
      "INFO - 2022-07-30 08:49:21:pipeline/mimic.py:L 106 - Done.\n",
      "INFO - 2022-07-30 08:49:21:pipeline/mimic.py:L 112 - Starting model run for model: calibration_binned_lstm!\n",
      "INFO - 2022-07-30 08:49:22:preprocessing/__init__.py:L 464 - Done computing new normalizer in 0.9311776161193848!\n",
      "Model: \"lstm_network_3\"\n",
      "_________________________________________________________________\n",
      " Layer (type)                Output Shape              Param #   \n",
      "=================================================================\n",
      " x (InputLayer)              [(None, None, 59)]        0         \n",
      "                                                                 \n",
      " masking_3 (Masking)         (None, None, 59)          0         \n",
      "                                                                 \n",
      " lstm_3 (LSTM)               (None, 128)               96256     \n",
      "                                                                 \n",
      " dense_3 (Dense)             (None, 10)                1290      \n",
      "                                                                 \n",
      "=================================================================\n",
      "Total params: 97,546\n",
      "Trainable params: 97,546\n",
      "Non-trainable params: 0\n",
      "_________________________________________________________________\n",
      "INFO - 2022-07-30 08:49:22:models/management.py:L 34 - Loading model from epoch 5.\n"
     ]
    },
    {
     "name": "stderr",
     "output_type": "stream",
     "text": [
      "2022-07-30 08:49:24.559806: W tensorflow/core/common_runtime/graph_constructor.cc:805] Node 'cond/while' has 13 outputs but the _output_shapes attribute specifies shapes for 46 outputs. Output shapes may be inaccurate.\n",
      "2022-07-30 08:49:24.570501: W tensorflow/core/common_runtime/graph_constructor.cc:805] Node 'cond' has 5 outputs but the _output_shapes attribute specifies shapes for 46 outputs. Output shapes may be inaccurate.\n",
      "2022-07-30 08:49:24.780797: W tensorflow/core/common_runtime/graph_constructor.cc:805] Node 'cond/while' has 13 outputs but the _output_shapes attribute specifies shapes for 46 outputs. Output shapes may be inaccurate.\n",
      "2022-07-30 08:49:24.795509: W tensorflow/core/common_runtime/graph_constructor.cc:805] Node 'cond' has 5 outputs but the _output_shapes attribute specifies shapes for 46 outputs. Output shapes may be inaccurate.\n",
      "2022-07-30 08:49:24.891966: W tensorflow/core/common_runtime/graph_constructor.cc:805] Node 'cond/while' has 13 outputs but the _output_shapes attribute specifies shapes for 46 outputs. Output shapes may be inaccurate.\n",
      "2022-07-30 08:49:24.904982: W tensorflow/core/common_runtime/graph_constructor.cc:805] Node 'cond' has 5 outputs but the _output_shapes attribute specifies shapes for 46 outputs. Output shapes may be inaccurate.\n"
     ]
    },
    {
     "data": {
      "text/plain": [
       "(<keras.engine.functional.Functional at 0x7f84080a25e0>,\n",
       " {'loss': [1.343518614768982,\n",
       "   1.4897754192352295,\n",
       "   0.715977668762207,\n",
       "   1.432185411453247,\n",
       "   0.6538597941398621],\n",
       "  'accuracy': [0.5433722138404846,\n",
       "   0.5153511762619019,\n",
       "   0.7848742008209229,\n",
       "   0.5165592432022095,\n",
       "   0.8077898621559143],\n",
       "  'val_loss': [3.072230339050293,\n",
       "   3.06360125541687,\n",
       "   2.2598302364349365,\n",
       "   2.3731656074523926,\n",
       "   2.6039905548095703],\n",
       "  'val_accuracy': [0.13506753742694855,\n",
       "   0.07315731793642044,\n",
       "   0.44852134585380554,\n",
       "   0.15962699055671692,\n",
       "   0.25822368264198303],\n",
       "  'lr': [0.0010000000474974513,\n",
       "   0.0010000000474974513,\n",
       "   0.0010000000474974513,\n",
       "   0.0010000000474974513,\n",
       "   0.0010000000474974513],\n",
       "  'finished': True,\n",
       "  'score': [1.56580650806427, 0.4095976650714874]})"
      ]
     },
     "execution_count": 15,
     "metadata": {},
     "output_type": "execute_result"
    }
   ],
   "source": [
    "reload(pipeline)\n",
    "model = LSTMNetwork(**model_config)\n",
    "pipe = pipeline.MIMICPipeline(model, **pipeline_config)\n",
    "model, history = pipe.fit(timeseries,\n",
    "                          episodic_data,\n",
    "                          subject_diagnoses,\n",
    "                          subject_icu_history)"
   ]
  },
  {
   "cell_type": "code",
   "execution_count": 16,
   "id": "a17102b5",
   "metadata": {},
   "outputs": [
    {
     "name": "stdout",
     "output_type": "stream",
     "text": [
      "INFO - 2022-07-30 08:49:26:pipeline/mimic.py:L 268 - Evaluating model.\n",
      "312/312 [==============================] - 7s 21ms/step - loss: 2.0921 - accuracy: 0.3499\n",
      "INFO - 2022-07-30 08:49:33:pipeline/mimic.py:L 275 - Evaluation complete.\n"
     ]
    },
    {
     "data": {
      "text/plain": [
       "[2.092089891433716, 0.3499184250831604]"
      ]
     },
     "execution_count": 16,
     "metadata": {},
     "output_type": "execute_result"
    },
    {
     "data": {
      "image/png": "[encoded data removed]",
      "text/plain": [
       "<Figure size 432x288 with 1 Axes>"
      ]
     },
     "metadata": {
      "needs_background": "light"
     },
     "output_type": "display_data"
    }
   ],
   "source": [
    "pipe.score()"
   ]
  },
  {
   "cell_type": "code",
   "execution_count": null,
   "id": "630a4b8d",
   "metadata": {},
   "outputs": [],
   "source": []
  }
 ],
 "metadata": {
  "kernelspec": {
   "display_name": "Python 3 (ipykernel)",
   "language": "python",
   "name": "python3"
  },
  "language_info": {
   "codemirror_mode": {
    "name": "ipython",
    "version": 3
   },
   "file_extension": ".py",
   "mimetype": "text/x-python",
   "name": "python",
   "nbconvert_exporter": "python",
   "pygments_lexer": "ipython3",
   "version": "3.8.10"
  }
 },
 "nbformat": 4,
 "nbformat_minor": 5
}
