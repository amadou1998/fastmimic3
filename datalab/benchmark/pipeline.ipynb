{
 "cells": [
  {
   "cell_type": "markdown",
   "id": "43432e85",
   "metadata": {},
   "source": [
    "# MIMIC-III Pipeline\n",
    "In this notebook, we are going to show case the mimic pipeline for each task."
   ]
  },
  {
   "cell_type": "code",
   "execution_count": 1,
   "id": "9a66215b",
   "metadata": {},
   "outputs": [
    {
     "name": "stderr",
     "output_type": "stream",
     "text": [
      "2022-07-31 12:53:44.555848: I tensorflow/core/util/util.cc:169] oneDNN custom operations are on. You may see slightly different numerical results due to floating-point round-off errors from different computation orders. To turn them off, set the environment variable `TF_ENABLE_ONEDNN_OPTS=0`.\n",
      "2022-07-31 12:53:47.056425: I tensorflow/stream_executor/cuda/cuda_gpu_executor.cc:975] successful NUMA node read from SysFS had negative value (-1), but there must be at least one NUMA node, so returning NUMA node zero\n",
      "2022-07-31 12:53:47.061108: I tensorflow/stream_executor/cuda/cuda_gpu_executor.cc:975] successful NUMA node read from SysFS had negative value (-1), but there must be at least one NUMA node, so returning NUMA node zero\n",
      "2022-07-31 12:53:47.061308: I tensorflow/stream_executor/cuda/cuda_gpu_executor.cc:975] successful NUMA node read from SysFS had negative value (-1), but there must be at least one NUMA node, so returning NUMA node zero\n"
     ]
    }
   ],
   "source": [
    "import pdb\n",
    "import os\n",
    "import json\n",
    "from pathlib import Path\n",
    "from keras.callbacks import ModelCheckpoint\n",
    "from tensorflow.keras.metrics import AUC\n",
    "\n",
    "import datasets.mimic\n",
    "from preprocessing.mimic import Preprocessor\n",
    "from preprocessing import Discretizer, BatchGenerator, Normalizer\n",
    "from models.lstm import LSTMNetwork\n",
    "from utils.IO import *\n",
    "from importlib import reload\n",
    "import pipeline.mimic as pipeline"
   ]
  },
  {
   "cell_type": "code",
   "execution_count": 2,
   "id": "7b6718b5",
   "metadata": {},
   "outputs": [
    {
     "name": "stdout",
     "output_type": "stream",
     "text": [
      "INFO - 2022-07-31 12:53:47:datasets/mimic.py:L 51 - task data\n"
     ]
    }
   ],
   "source": [
    "(timeseries,\n",
    " episodic_data,\n",
    " subject_events,\n",
    " subject_diagnoses,\n",
    " subject_icu_history) = datasets.mimic.load_data(path=Path(os.getenv(\"DATA\"), \"mimic-iii-demo\"))"
   ]
  },
  {
   "cell_type": "markdown",
   "id": "b018da8d",
   "metadata": {},
   "source": [
    "## Decompensation"
   ]
  },
  {
   "cell_type": "code",
   "execution_count": 3,
   "id": "31b2e010",
   "metadata": {},
   "outputs": [
    {
     "name": "stderr",
     "output_type": "stream",
     "text": [
      "2022-07-31 12:53:53.580192: I tensorflow/core/platform/cpu_feature_guard.cc:193] This TensorFlow binary is optimized with oneAPI Deep Neural Network Library (oneDNN) to use the following CPU instructions in performance-critical operations:  AVX2 AVX512F AVX512_VNNI FMA\n",
      "To enable them in other operations, rebuild TensorFlow with the appropriate compiler flags.\n",
      "2022-07-31 12:53:53.580801: I tensorflow/stream_executor/cuda/cuda_gpu_executor.cc:975] successful NUMA node read from SysFS had negative value (-1), but there must be at least one NUMA node, so returning NUMA node zero\n",
      "2022-07-31 12:53:53.581106: I tensorflow/stream_executor/cuda/cuda_gpu_executor.cc:975] successful NUMA node read from SysFS had negative value (-1), but there must be at least one NUMA node, so returning NUMA node zero\n",
      "2022-07-31 12:53:53.581253: I tensorflow/stream_executor/cuda/cuda_gpu_executor.cc:975] successful NUMA node read from SysFS had negative value (-1), but there must be at least one NUMA node, so returning NUMA node zero\n",
      "2022-07-31 12:53:54.001824: I tensorflow/stream_executor/cuda/cuda_gpu_executor.cc:975] successful NUMA node read from SysFS had negative value (-1), but there must be at least one NUMA node, so returning NUMA node zero\n",
      "2022-07-31 12:53:54.002051: I tensorflow/stream_executor/cuda/cuda_gpu_executor.cc:975] successful NUMA node read from SysFS had negative value (-1), but there must be at least one NUMA node, so returning NUMA node zero\n",
      "2022-07-31 12:53:54.002204: I tensorflow/stream_executor/cuda/cuda_gpu_executor.cc:975] successful NUMA node read from SysFS had negative value (-1), but there must be at least one NUMA node, so returning NUMA node zero\n",
      "2022-07-31 12:53:54.002330: I tensorflow/core/common_runtime/gpu/gpu_device.cc:1532] Created device /job:localhost/replica:0/task:0/device:GPU:0 with 4658 MB memory:  -> device: 0, name: NVIDIA GeForce GTX 1660 Ti with Max-Q Design, pci bus id: 0000:02:00.0, compute capability: 7.5\n"
     ]
    }
   ],
   "source": [
    "model_config = {\n",
    "    \"layer_size\": 128,\n",
    "    \"input_dim\": 59,\n",
    "    \"depth\": 1,\n",
    "    \"dropout_rate\": 0,\n",
    "    \"task\": \"decompensation\"\n",
    "}\n",
    "\n",
    "pipeline_config = {\n",
    "    \"model_name\": \"lstm_default\",\n",
    "    \"batch_size\": 8,\n",
    "    \"epochs\": 5,\n",
    "    \"validation_fraction_split\": 0.2,\n",
    "    \"test_fraction_split\": 0.2,\n",
    "    \"task\": \"decompensation\",\n",
    "    \"output_type\": \"one-hot\",\n",
    "    \"compiler_config\" : {\n",
    "        \"optimizer\": \"adam\",\n",
    "        \"metrics\": [\n",
    "            AUC(curve='ROC'), \n",
    "            AUC(curve='PR')\n",
    "        ],\n",
    "        \"loss\": \"binary_crossentropy\",\n",
    "        \"run_eagerly\": True\n",
    "    }\n",
    "}"
   ]
  },
  {
   "cell_type": "code",
   "execution_count": 4,
   "id": "c33cd103",
   "metadata": {},
   "outputs": [],
   "source": [
    "model = LSTMNetwork(**model_config)"
   ]
  },
  {
   "cell_type": "code",
   "execution_count": 6,
   "id": "e9fbd2a4",
   "metadata": {},
   "outputs": [
    {
     "name": "stdout",
     "output_type": "stream",
     "text": [
      "INFO - 2022-07-31 12:53:54:pipeline/mimic.py:L 132 - Preprocessing data.\n",
      "INFO - 2022-07-31 12:53:54:preprocessing/mimic.py:L 60 - Only type available for this task is binary! Argument disregarded\n",
      "INFO - 2022-07-31 12:53:55:pipeline/mimic.py:L 147 - Done.\n",
      "INFO - 2022-07-31 12:53:55:pipeline/mimic.py:L 148 - Splitting Dataset.\n",
      "INFO - 2022-07-31 12:53:56:pipeline/mimic.py:L 106 - Done.\n",
      "INFO - 2022-07-31 12:53:56:pipeline/mimic.py:L 112 - Starting model run for model: lstm_default!\n",
      "INFO - 2022-07-31 12:53:57:preprocessing/__init__.py:L 464 - Done computing new normalizer in 1.8821079730987549!\n",
      "Model: \"lstm_network\"\n",
      "_________________________________________________________________\n",
      " Layer (type)                Output Shape              Param #   \n",
      "=================================================================\n",
      " x (InputLayer)              [(None, None, 59)]        0         \n",
      "                                                                 \n",
      " masking (Masking)           (None, None, 59)          0         \n",
      "                                                                 \n",
      " lstm (LSTM)                 (None, 128)               96256     \n",
      "                                                                 \n",
      " dense (Dense)               (None, 1)                 129       \n",
      "                                                                 \n",
      "=================================================================\n",
      "Total params: 96,385\n",
      "Trainable params: 96,385\n",
      "Non-trainable params: 0\n",
      "_________________________________________________________________\n",
      "INFO - 2022-07-31 12:53:58:pipeline/mimic.py:L 240 - Training model.\n",
      "Epoch 1/5\n"
     ]
    },
    {
     "name": "stderr",
     "output_type": "stream",
     "text": [
      "2022-07-31 12:53:58.945911: I tensorflow/stream_executor/cuda/cuda_dnn.cc:384] Loaded cuDNN version 8100\n"
     ]
    },
    {
     "name": "stdout",
     "output_type": "stream",
     "text": [
      "837/837 [==============================] - ETA: 0s - loss: 0.1645 - auc: 0.7369 - auc_1: 0.1282"
     ]
    },
    {
     "name": "stderr",
     "output_type": "stream",
     "text": [
      "WARNING:absl:Found untraced functions such as lstm_cell_layer_call_fn, lstm_cell_layer_call_and_return_conditional_losses while saving (showing 2 of 2). These functions will not be directly callable after loading.\n"
     ]
    },
    {
     "name": "stdout",
     "output_type": "stream",
     "text": [
      "INFO:tensorflow:Assets written to: /work/model/mimic/lstm_default/decompensation/cp-0001.ckpt/assets\n"
     ]
    },
    {
     "name": "stderr",
     "output_type": "stream",
     "text": [
      "INFO:tensorflow:Assets written to: /work/model/mimic/lstm_default/decompensation/cp-0001.ckpt/assets\n"
     ]
    },
    {
     "name": "stdout",
     "output_type": "stream",
     "text": [
      "837/837 [==============================] - 65s 76ms/step - loss: 0.1645 - auc: 0.7369 - auc_1: 0.1282 - val_loss: 0.2567 - val_auc: 0.6909 - val_auc_1: 0.1120 - lr: 0.0010\n",
      "Epoch 2/5\n",
      "837/837 [==============================] - ETA: 0s - loss: 0.1286 - auc: 0.7901 - auc_1: 0.2515"
     ]
    },
    {
     "name": "stderr",
     "output_type": "stream",
     "text": [
      "WARNING:absl:Found untraced functions such as lstm_cell_layer_call_fn, lstm_cell_layer_call_and_return_conditional_losses while saving (showing 2 of 2). These functions will not be directly callable after loading.\n"
     ]
    },
    {
     "name": "stdout",
     "output_type": "stream",
     "text": [
      "INFO:tensorflow:Assets written to: /work/model/mimic/lstm_default/decompensation/cp-0002.ckpt/assets\n"
     ]
    },
    {
     "name": "stderr",
     "output_type": "stream",
     "text": [
      "INFO:tensorflow:Assets written to: /work/model/mimic/lstm_default/decompensation/cp-0002.ckpt/assets\n"
     ]
    },
    {
     "name": "stdout",
     "output_type": "stream",
     "text": [
      "837/837 [==============================] - 64s 76ms/step - loss: 0.1286 - auc: 0.7901 - auc_1: 0.2515 - val_loss: 0.2745 - val_auc: 0.7088 - val_auc_1: 0.1460 - lr: 0.0010\n",
      "Epoch 3/5\n",
      "837/837 [==============================] - ETA: 0s - loss: 0.1169 - auc: 0.8147 - auc_1: 0.3828"
     ]
    },
    {
     "name": "stderr",
     "output_type": "stream",
     "text": [
      "WARNING:absl:Found untraced functions such as lstm_cell_layer_call_fn, lstm_cell_layer_call_and_return_conditional_losses while saving (showing 2 of 2). These functions will not be directly callable after loading.\n"
     ]
    },
    {
     "name": "stdout",
     "output_type": "stream",
     "text": [
      "INFO:tensorflow:Assets written to: /work/model/mimic/lstm_default/decompensation/cp-0003.ckpt/assets\n"
     ]
    },
    {
     "name": "stderr",
     "output_type": "stream",
     "text": [
      "INFO:tensorflow:Assets written to: /work/model/mimic/lstm_default/decompensation/cp-0003.ckpt/assets\n"
     ]
    },
    {
     "name": "stdout",
     "output_type": "stream",
     "text": [
      "837/837 [==============================] - 83s 99ms/step - loss: 0.1169 - auc: 0.8147 - auc_1: 0.3828 - val_loss: 0.2580 - val_auc: 0.7742 - val_auc_1: 0.1957 - lr: 0.0010\n",
      "Epoch 4/5\n",
      "836/837 [============================>.] - ETA: 0s - loss: 0.1157 - auc: 0.7953 - auc_1: 0.4101"
     ]
    },
    {
     "name": "stderr",
     "output_type": "stream",
     "text": [
      "WARNING:absl:Found untraced functions such as lstm_cell_layer_call_fn, lstm_cell_layer_call_and_return_conditional_losses while saving (showing 2 of 2). These functions will not be directly callable after loading.\n"
     ]
    },
    {
     "name": "stdout",
     "output_type": "stream",
     "text": [
      "INFO:tensorflow:Assets written to: /work/model/mimic/lstm_default/decompensation/cp-0004.ckpt/assets\n"
     ]
    },
    {
     "name": "stderr",
     "output_type": "stream",
     "text": [
      "INFO:tensorflow:Assets written to: /work/model/mimic/lstm_default/decompensation/cp-0004.ckpt/assets\n"
     ]
    },
    {
     "name": "stdout",
     "output_type": "stream",
     "text": [
      "837/837 [==============================] - 48s 58ms/step - loss: 0.1156 - auc: 0.7951 - auc_1: 0.4100 - val_loss: 0.2291 - val_auc: 0.8065 - val_auc_1: 0.1988 - lr: 0.0010\n",
      "Epoch 5/5\n",
      "837/837 [==============================] - ETA: 0s - loss: 0.1023 - auc: 0.8841 - auc_1: 0.4864"
     ]
    },
    {
     "name": "stderr",
     "output_type": "stream",
     "text": [
      "WARNING:absl:Found untraced functions such as lstm_cell_layer_call_fn, lstm_cell_layer_call_and_return_conditional_losses while saving (showing 2 of 2). These functions will not be directly callable after loading.\n"
     ]
    },
    {
     "name": "stdout",
     "output_type": "stream",
     "text": [
      "INFO:tensorflow:Assets written to: /work/model/mimic/lstm_default/decompensation/cp-0005.ckpt/assets\n"
     ]
    },
    {
     "name": "stderr",
     "output_type": "stream",
     "text": [
      "INFO:tensorflow:Assets written to: /work/model/mimic/lstm_default/decompensation/cp-0005.ckpt/assets\n"
     ]
    },
    {
     "name": "stdout",
     "output_type": "stream",
     "text": [
      "837/837 [==============================] - 50s 60ms/step - loss: 0.1023 - auc: 0.8841 - auc_1: 0.4864 - val_loss: 0.2209 - val_auc: 0.8210 - val_auc_1: 0.3324 - lr: 0.0010\n",
      "INFO - 2022-07-31 12:59:08:pipeline/mimic.py:L 256 - Training complete.\n"
     ]
    }
   ],
   "source": [
    "pipe = pipeline.MIMICPipeline(model, **pipeline_config)\n",
    "model, history = pipe.fit(timeseries,\n",
    "                          episodic_data,\n",
    "                          subject_diagnoses,\n",
    "                          subject_icu_history)"
   ]
  },
  {
   "cell_type": "code",
   "execution_count": 7,
   "id": "e33552e6",
   "metadata": {},
   "outputs": [
    {
     "name": "stdout",
     "output_type": "stream",
     "text": [
      "INFO - 2022-07-31 12:59:08:pipeline/mimic.py:L 268 - Evaluating model.\n",
      "284/284 [==============================] - 9s 32ms/step - loss: 0.1458 - auc: 0.6722 - auc_1: 0.0740\n",
      "INFO - 2022-07-31 12:59:18:pipeline/mimic.py:L 275 - Evaluation complete.\n"
     ]
    },
    {
     "data": {
      "text/plain": [
       "[0.14581145346164703, 0.672200620174408, 0.07402412593364716]"
      ]
     },
     "execution_count": 7,
     "metadata": {},
     "output_type": "execute_result"
    },
    {
     "data": {
      "image/png": "[encoded data removed]",
      "text/plain": [
       "<Figure size 432x288 with 1 Axes>"
      ]
     },
     "metadata": {
      "needs_background": "light"
     },
     "output_type": "display_data"
    }
   ],
   "source": [
    "pipe.score()"
   ]
  },
  {
   "cell_type": "markdown",
   "id": "0c7414bc",
   "metadata": {},
   "source": [
    "## In Hospital Mortality"
   ]
  },
  {
   "cell_type": "code",
   "execution_count": 8,
   "id": "efa0ab61",
   "metadata": {},
   "outputs": [],
   "source": [
    "model_config = {\n",
    "    \"layer_size\": 128,\n",
    "    \"input_dim\": 59,\n",
    "    \"depth\": 1,\n",
    "    \"dropout_rate\": 0,\n",
    "    \"task\": \"in_hospital_mortality\"\n",
    "}\n",
    "\n",
    "pipeline_config = {\n",
    "    \"model_name\": \"lstm_default\",\n",
    "    \"batch_size\": 8,\n",
    "    \"epochs\": 5,\n",
    "    \"validation_fraction_split\": 0.2,\n",
    "    \"test_fraction_split\": 0.2,\n",
    "    \"task\": \"in_hospital_mortality\",\n",
    "    \"output_type\": \"one-hot\",\n",
    "    \"compiler_config\" : {\n",
    "        \"optimizer\": \"adam\",\n",
    "        \"metrics\": [\n",
    "            AUC(curve='ROC'), \n",
    "            AUC(curve='PR')\n",
    "        ],\n",
    "        \"loss\": \"binary_crossentropy\",\n",
    "        \"run_eagerly\": True\n",
    "    }\n",
    "}"
   ]
  },
  {
   "cell_type": "code",
   "execution_count": 9,
   "id": "e022f025",
   "metadata": {},
   "outputs": [
    {
     "name": "stdout",
     "output_type": "stream",
     "text": [
      "INFO - 2022-07-31 12:59:19:pipeline/mimic.py:L 132 - Preprocessing data.\n",
      "INFO - 2022-07-31 12:59:19:preprocessing/mimic.py:L 60 - Only type available for this task is binary! Argument disregarded\n",
      "INFO - 2022-07-31 12:59:20:pipeline/mimic.py:L 147 - Done.\n",
      "INFO - 2022-07-31 12:59:20:pipeline/mimic.py:L 148 - Splitting Dataset.\n",
      "INFO - 2022-07-31 12:59:20:pipeline/mimic.py:L 106 - Done.\n",
      "INFO - 2022-07-31 12:59:20:pipeline/mimic.py:L 112 - Starting model run for model: lstm_default!\n",
      "INFO - 2022-07-31 12:59:23:preprocessing/__init__.py:L 464 - Done computing new normalizer in 3.136474132537842!\n",
      "Model: \"lstm_network_1\"\n",
      "_________________________________________________________________\n",
      " Layer (type)                Output Shape              Param #   \n",
      "=================================================================\n",
      " x (InputLayer)              [(None, None, 59)]        0         \n",
      "                                                                 \n",
      " masking_1 (Masking)         (None, None, 59)          0         \n",
      "                                                                 \n",
      " lstm_1 (LSTM)               (None, 128)               96256     \n",
      "                                                                 \n",
      " dense_1 (Dense)             (None, 1)                 129       \n",
      "                                                                 \n",
      "=================================================================\n",
      "Total params: 96,385\n",
      "Trainable params: 96,385\n",
      "Non-trainable params: 0\n",
      "_________________________________________________________________\n",
      "INFO - 2022-07-31 12:59:23:pipeline/mimic.py:L 240 - Training model.\n",
      "Epoch 1/5\n",
      "57/57 [==============================] - ETA: 0s - loss: 0.5744 - auc_2: 0.6852 - auc_3: 0.6031"
     ]
    },
    {
     "name": "stderr",
     "output_type": "stream",
     "text": [
      "WARNING:absl:Found untraced functions such as lstm_cell_1_layer_call_fn, lstm_cell_1_layer_call_and_return_conditional_losses while saving (showing 2 of 2). These functions will not be directly callable after loading.\n"
     ]
    },
    {
     "name": "stdout",
     "output_type": "stream",
     "text": [
      "INFO:tensorflow:Assets written to: /work/model/mimic/lstm_default/in_hospital_mortality/cp-0001.ckpt/assets\n"
     ]
    },
    {
     "name": "stderr",
     "output_type": "stream",
     "text": [
      "INFO:tensorflow:Assets written to: /work/model/mimic/lstm_default/in_hospital_mortality/cp-0001.ckpt/assets\n"
     ]
    },
    {
     "name": "stdout",
     "output_type": "stream",
     "text": [
      "57/57 [==============================] - 16s 283ms/step - loss: 0.5744 - auc_2: 0.6852 - auc_3: 0.6031 - val_loss: 0.5128 - val_auc_2: 0.8000 - val_auc_3: 0.4407 - lr: 0.0010\n",
      "Epoch 2/5\n",
      "57/57 [==============================] - ETA: 0s - loss: 0.3001 - auc_2: 0.9473 - auc_3: 0.9105"
     ]
    },
    {
     "name": "stderr",
     "output_type": "stream",
     "text": [
      "WARNING:absl:Found untraced functions such as lstm_cell_1_layer_call_fn, lstm_cell_1_layer_call_and_return_conditional_losses while saving (showing 2 of 2). These functions will not be directly callable after loading.\n"
     ]
    },
    {
     "name": "stdout",
     "output_type": "stream",
     "text": [
      "INFO:tensorflow:Assets written to: /work/model/mimic/lstm_default/in_hospital_mortality/cp-0002.ckpt/assets\n"
     ]
    },
    {
     "name": "stderr",
     "output_type": "stream",
     "text": [
      "INFO:tensorflow:Assets written to: /work/model/mimic/lstm_default/in_hospital_mortality/cp-0002.ckpt/assets\n"
     ]
    },
    {
     "name": "stdout",
     "output_type": "stream",
     "text": [
      "57/57 [==============================] - 15s 274ms/step - loss: 0.3001 - auc_2: 0.9473 - auc_3: 0.9105 - val_loss: 0.4796 - val_auc_2: 0.8231 - val_auc_3: 0.4737 - lr: 0.0010\n",
      "Epoch 3/5\n",
      "57/57 [==============================] - ETA: 0s - loss: 0.3582 - auc_2: 0.8906 - auc_3: 0.8114"
     ]
    },
    {
     "name": "stderr",
     "output_type": "stream",
     "text": [
      "WARNING:absl:Found untraced functions such as lstm_cell_1_layer_call_fn, lstm_cell_1_layer_call_and_return_conditional_losses while saving (showing 2 of 2). These functions will not be directly callable after loading.\n"
     ]
    },
    {
     "name": "stdout",
     "output_type": "stream",
     "text": [
      "INFO:tensorflow:Assets written to: /work/model/mimic/lstm_default/in_hospital_mortality/cp-0003.ckpt/assets\n"
     ]
    },
    {
     "name": "stderr",
     "output_type": "stream",
     "text": [
      "INFO:tensorflow:Assets written to: /work/model/mimic/lstm_default/in_hospital_mortality/cp-0003.ckpt/assets\n"
     ]
    },
    {
     "name": "stdout",
     "output_type": "stream",
     "text": [
      "57/57 [==============================] - 15s 269ms/step - loss: 0.3582 - auc_2: 0.8906 - auc_3: 0.8114 - val_loss: 0.5309 - val_auc_2: 0.8077 - val_auc_3: 0.4741 - lr: 0.0010\n",
      "Epoch 4/5\n",
      "57/57 [==============================] - ETA: 0s - loss: 0.2048 - auc_2: 0.9751 - auc_3: 0.9600"
     ]
    },
    {
     "name": "stderr",
     "output_type": "stream",
     "text": [
      "WARNING:absl:Found untraced functions such as lstm_cell_1_layer_call_fn, lstm_cell_1_layer_call_and_return_conditional_losses while saving (showing 2 of 2). These functions will not be directly callable after loading.\n"
     ]
    },
    {
     "name": "stdout",
     "output_type": "stream",
     "text": [
      "INFO:tensorflow:Assets written to: /work/model/mimic/lstm_default/in_hospital_mortality/cp-0004.ckpt/assets\n"
     ]
    },
    {
     "name": "stderr",
     "output_type": "stream",
     "text": [
      "INFO:tensorflow:Assets written to: /work/model/mimic/lstm_default/in_hospital_mortality/cp-0004.ckpt/assets\n"
     ]
    },
    {
     "name": "stdout",
     "output_type": "stream",
     "text": [
      "57/57 [==============================] - 16s 281ms/step - loss: 0.2048 - auc_2: 0.9751 - auc_3: 0.9600 - val_loss: 0.4872 - val_auc_2: 0.8462 - val_auc_3: 0.5040 - lr: 0.0010\n",
      "Epoch 5/5\n",
      "57/57 [==============================] - ETA: 0s - loss: 0.1855 - auc_2: 0.9459 - auc_3: 0.9544"
     ]
    },
    {
     "name": "stderr",
     "output_type": "stream",
     "text": [
      "WARNING:absl:Found untraced functions such as lstm_cell_1_layer_call_fn, lstm_cell_1_layer_call_and_return_conditional_losses while saving (showing 2 of 2). These functions will not be directly callable after loading.\n"
     ]
    },
    {
     "name": "stdout",
     "output_type": "stream",
     "text": [
      "INFO:tensorflow:Assets written to: /work/model/mimic/lstm_default/in_hospital_mortality/cp-0005.ckpt/assets\n"
     ]
    },
    {
     "name": "stderr",
     "output_type": "stream",
     "text": [
      "INFO:tensorflow:Assets written to: /work/model/mimic/lstm_default/in_hospital_mortality/cp-0005.ckpt/assets\n"
     ]
    },
    {
     "name": "stdout",
     "output_type": "stream",
     "text": [
      "57/57 [==============================] - 15s 260ms/step - loss: 0.1855 - auc_2: 0.9459 - auc_3: 0.9544 - val_loss: 0.6639 - val_auc_2: 0.8000 - val_auc_3: 0.5745 - lr: 0.0010\n",
      "INFO - 2022-07-31 13:00:41:pipeline/mimic.py:L 256 - Training complete.\n"
     ]
    }
   ],
   "source": [
    "model = LSTMNetwork(**model_config)\n",
    "pipe = pipeline.MIMICPipeline(model, **pipeline_config)\n",
    "model, history = pipe.fit(timeseries,\n",
    "                          episodic_data,\n",
    "                          subject_diagnoses,\n",
    "                          subject_icu_history)"
   ]
  },
  {
   "cell_type": "code",
   "execution_count": 10,
   "id": "a2a19b54",
   "metadata": {},
   "outputs": [],
   "source": [
    "y_pred, y_true = pipe.predict()"
   ]
  },
  {
   "cell_type": "markdown",
   "id": "fcacdee4",
   "metadata": {},
   "source": [
    "## Phentoyping"
   ]
  },
  {
   "cell_type": "code",
   "execution_count": 11,
   "id": "5a1516b8",
   "metadata": {},
   "outputs": [],
   "source": [
    "model_config = {\n",
    "    \"layer_size\": 128,\n",
    "    \"input_dim\": 59,\n",
    "    \"depth\": 1,\n",
    "    \"dropout_rate\": 0,\n",
    "    \"task\": \"phenotyping\"\n",
    "}\n",
    "\n",
    "pipeline_config = {\n",
    "    \"model_name\": \"lstm_default\",\n",
    "    \"batch_size\": 8,\n",
    "    \"epochs\": 5,\n",
    "    \"validation_fraction_split\": 0.2,\n",
    "    \"test_fraction_split\": 0.2,\n",
    "    \"task\": \"phenotyping\",\n",
    "    \"output_type\": \"one-hot\",\n",
    "    \"compiler_config\" : {\n",
    "        \"optimizer\": \"adam\",\n",
    "        \"metrics\": [\n",
    "            AUC(curve='ROC'), \n",
    "            AUC(curve='PR')\n",
    "        ],\n",
    "        \"loss\": \"categorical_crossentropy\",\n",
    "        \"run_eagerly\": True\n",
    "    }\n",
    "}"
   ]
  },
  {
   "cell_type": "code",
   "execution_count": 12,
   "id": "3be7960d",
   "metadata": {},
   "outputs": [
    {
     "name": "stdout",
     "output_type": "stream",
     "text": [
      "INFO - 2022-07-31 13:00:50:pipeline/mimic.py:L 132 - Preprocessing data.\n",
      "INFO - 2022-07-31 13:00:50:preprocessing/mimic.py:L 60 - Only type available for this task is binary! Argument disregarded\n",
      "INFO - 2022-07-31 13:00:52:pipeline/mimic.py:L 147 - Done.\n",
      "INFO - 2022-07-31 13:00:52:pipeline/mimic.py:L 148 - Splitting Dataset.\n",
      "INFO - 2022-07-31 13:00:52:pipeline/mimic.py:L 106 - Done.\n",
      "INFO - 2022-07-31 13:00:52:pipeline/mimic.py:L 112 - Starting model run for model: lstm_default!\n",
      "INFO - 2022-07-31 13:00:55:preprocessing/__init__.py:L 464 - Done computing new normalizer in 2.076491117477417!\n",
      "Model: \"lstm_network_2\"\n",
      "_________________________________________________________________\n",
      " Layer (type)                Output Shape              Param #   \n",
      "=================================================================\n",
      " x (InputLayer)              [(None, None, 59)]        0         \n",
      "                                                                 \n",
      " masking_2 (Masking)         (None, None, 59)          0         \n",
      "                                                                 \n",
      " lstm_2 (LSTM)               (None, 128)               96256     \n",
      "                                                                 \n",
      " dense_2 (Dense)             (None, 25)                3225      \n",
      "                                                                 \n",
      "=================================================================\n",
      "Total params: 99,481\n",
      "Trainable params: 99,481\n",
      "Non-trainable params: 0\n",
      "_________________________________________________________________\n",
      "INFO - 2022-07-31 13:00:55:pipeline/mimic.py:L 240 - Training model.\n",
      "Epoch 1/5\n",
      "52/52 [==============================] - ETA: 0s - loss: 12.3340 - auc_4: 0.6228 - auc_5: 0.2183"
     ]
    },
    {
     "name": "stderr",
     "output_type": "stream",
     "text": [
      "WARNING:absl:Found untraced functions such as lstm_cell_2_layer_call_fn, lstm_cell_2_layer_call_and_return_conditional_losses while saving (showing 2 of 2). These functions will not be directly callable after loading.\n"
     ]
    },
    {
     "name": "stdout",
     "output_type": "stream",
     "text": [
      "INFO:tensorflow:Assets written to: /work/model/mimic/lstm_default/phenotyping/cp-0001.ckpt/assets\n"
     ]
    },
    {
     "name": "stderr",
     "output_type": "stream",
     "text": [
      "INFO:tensorflow:Assets written to: /work/model/mimic/lstm_default/phenotyping/cp-0001.ckpt/assets\n"
     ]
    },
    {
     "name": "stdout",
     "output_type": "stream",
     "text": [
      "52/52 [==============================] - 12s 230ms/step - loss: 12.3340 - auc_4: 0.6228 - auc_5: 0.2183 - val_loss: 12.6677 - val_auc_4: 0.6414 - val_auc_5: 0.2308 - lr: 0.0010\n",
      "Epoch 2/5\n",
      "52/52 [==============================] - ETA: 0s - loss: 14.0872 - auc_4: 0.6862 - auc_5: 0.2566"
     ]
    },
    {
     "name": "stderr",
     "output_type": "stream",
     "text": [
      "WARNING:absl:Found untraced functions such as lstm_cell_2_layer_call_fn, lstm_cell_2_layer_call_and_return_conditional_losses while saving (showing 2 of 2). These functions will not be directly callable after loading.\n"
     ]
    },
    {
     "name": "stdout",
     "output_type": "stream",
     "text": [
      "INFO:tensorflow:Assets written to: /work/model/mimic/lstm_default/phenotyping/cp-0002.ckpt/assets\n"
     ]
    },
    {
     "name": "stderr",
     "output_type": "stream",
     "text": [
      "INFO:tensorflow:Assets written to: /work/model/mimic/lstm_default/phenotyping/cp-0002.ckpt/assets\n"
     ]
    },
    {
     "name": "stdout",
     "output_type": "stream",
     "text": [
      "52/52 [==============================] - 12s 243ms/step - loss: 14.0872 - auc_4: 0.6862 - auc_5: 0.2566 - val_loss: 15.0569 - val_auc_4: 0.6378 - val_auc_5: 0.2208 - lr: 0.0010\n",
      "Epoch 3/5\n",
      "52/52 [==============================] - ETA: 0s - loss: 14.6700 - auc_4: 0.6915 - auc_5: 0.2780"
     ]
    },
    {
     "name": "stderr",
     "output_type": "stream",
     "text": [
      "WARNING:absl:Found untraced functions such as lstm_cell_2_layer_call_fn, lstm_cell_2_layer_call_and_return_conditional_losses while saving (showing 2 of 2). These functions will not be directly callable after loading.\n"
     ]
    },
    {
     "name": "stdout",
     "output_type": "stream",
     "text": [
      "INFO:tensorflow:Assets written to: /work/model/mimic/lstm_default/phenotyping/cp-0003.ckpt/assets\n"
     ]
    },
    {
     "name": "stderr",
     "output_type": "stream",
     "text": [
      "INFO:tensorflow:Assets written to: /work/model/mimic/lstm_default/phenotyping/cp-0003.ckpt/assets\n"
     ]
    },
    {
     "name": "stdout",
     "output_type": "stream",
     "text": [
      "52/52 [==============================] - 16s 308ms/step - loss: 14.6700 - auc_4: 0.6915 - auc_5: 0.2780 - val_loss: 16.3963 - val_auc_4: 0.6439 - val_auc_5: 0.2254 - lr: 0.0010\n",
      "Epoch 4/5\n",
      "52/52 [==============================] - ETA: 0s - loss: 14.6331 - auc_4: 0.6912 - auc_5: 0.2613"
     ]
    },
    {
     "name": "stderr",
     "output_type": "stream",
     "text": [
      "WARNING:absl:Found untraced functions such as lstm_cell_2_layer_call_fn, lstm_cell_2_layer_call_and_return_conditional_losses while saving (showing 2 of 2). These functions will not be directly callable after loading.\n"
     ]
    },
    {
     "name": "stdout",
     "output_type": "stream",
     "text": [
      "INFO:tensorflow:Assets written to: /work/model/mimic/lstm_default/phenotyping/cp-0004.ckpt/assets\n"
     ]
    },
    {
     "name": "stderr",
     "output_type": "stream",
     "text": [
      "INFO:tensorflow:Assets written to: /work/model/mimic/lstm_default/phenotyping/cp-0004.ckpt/assets\n"
     ]
    },
    {
     "name": "stdout",
     "output_type": "stream",
     "text": [
      "52/52 [==============================] - 17s 335ms/step - loss: 14.6331 - auc_4: 0.6912 - auc_5: 0.2613 - val_loss: 17.4402 - val_auc_4: 0.6420 - val_auc_5: 0.2135 - lr: 0.0010\n",
      "Epoch 5/5\n",
      "52/52 [==============================] - ETA: 0s - loss: 15.5060 - auc_4: 0.6886 - auc_5: 0.2653"
     ]
    },
    {
     "name": "stderr",
     "output_type": "stream",
     "text": [
      "WARNING:absl:Found untraced functions such as lstm_cell_2_layer_call_fn, lstm_cell_2_layer_call_and_return_conditional_losses while saving (showing 2 of 2). These functions will not be directly callable after loading.\n"
     ]
    },
    {
     "name": "stdout",
     "output_type": "stream",
     "text": [
      "INFO:tensorflow:Assets written to: /work/model/mimic/lstm_default/phenotyping/cp-0005.ckpt/assets\n"
     ]
    },
    {
     "name": "stderr",
     "output_type": "stream",
     "text": [
      "INFO:tensorflow:Assets written to: /work/model/mimic/lstm_default/phenotyping/cp-0005.ckpt/assets\n"
     ]
    },
    {
     "name": "stdout",
     "output_type": "stream",
     "text": [
      "52/52 [==============================] - 12s 227ms/step - loss: 15.5060 - auc_4: 0.6886 - auc_5: 0.2653 - val_loss: 18.3265 - val_auc_4: 0.6429 - val_auc_5: 0.2145 - lr: 0.0010\n",
      "INFO - 2022-07-31 13:02:04:pipeline/mimic.py:L 256 - Training complete.\n"
     ]
    }
   ],
   "source": [
    "model = LSTMNetwork(**model_config)\n",
    "pipe = pipeline.MIMICPipeline(model, **pipeline_config)\n",
    "model, history = pipe.fit(timeseries,\n",
    "                          episodic_data,\n",
    "                          subject_diagnoses,\n",
    "                          subject_icu_history)"
   ]
  },
  {
   "cell_type": "code",
   "execution_count": 13,
   "id": "2319762d",
   "metadata": {
    "scrolled": true
   },
   "outputs": [
    {
     "name": "stdout",
     "output_type": "stream",
     "text": [
      "INFO - 2022-07-31 13:02:04:pipeline/mimic.py:L 268 - Evaluating model.\n",
      "13/13 [==============================] - 1s 52ms/step - loss: 19.0447 - auc_4: 0.6460 - auc_5: 0.2639\n",
      "INFO - 2022-07-31 13:02:04:pipeline/mimic.py:L 275 - Evaluation complete.\n"
     ]
    },
    {
     "data": {
      "text/plain": [
       "[19.044710159301758, 0.6460351943969727, 0.26385894417762756]"
      ]
     },
     "execution_count": 13,
     "metadata": {},
     "output_type": "execute_result"
    },
    {
     "data": {
      "image/png": "[encoded data removed]",
      "text/plain": [
       "<Figure size 432x288 with 1 Axes>"
      ]
     },
     "metadata": {
      "needs_background": "light"
     },
     "output_type": "display_data"
    }
   ],
   "source": [
    "pipe.score()"
   ]
  },
  {
   "cell_type": "markdown",
   "id": "f46ce039",
   "metadata": {},
   "source": [
    "## Lenght of Stay Prediction"
   ]
  },
  {
   "cell_type": "code",
   "execution_count": 14,
   "id": "476e8d90",
   "metadata": {},
   "outputs": [],
   "source": [
    "model_config = {\n",
    "    \"layer_size\": 128,\n",
    "    \"input_dim\": 59,\n",
    "    \"depth\": 1,\n",
    "    \"dropout_rate\": 0,\n",
    "    \"task\": \"length_of_stay\"\n",
    "}\n",
    "\n",
    "pipeline_config = {\n",
    "    \"model_name\": \"lstm_default\",\n",
    "    \"batch_size\": 8,\n",
    "    \"epochs\": 5,\n",
    "    \"validation_fraction_split\": 0.2,\n",
    "    \"test_fraction_split\": 0.2,\n",
    "    \"task\": \"length_of_stay\",\n",
    "    \"output_type\": \"one-hot\",\n",
    "    \"compiler_config\" : {\n",
    "        \"optimizer\": \"adam\",\n",
    "        \"metrics\": [\"accuracy\"],\n",
    "        \"loss\": \"categorical_crossentropy\",\n",
    "        \"run_eagerly\": True\n",
    "    }\n",
    "}"
   ]
  },
  {
   "cell_type": "code",
   "execution_count": 15,
   "id": "b95e237b",
   "metadata": {},
   "outputs": [
    {
     "name": "stdout",
     "output_type": "stream",
     "text": [
      "INFO - 2022-07-31 13:02:05:pipeline/mimic.py:L 132 - Preprocessing data.\n",
      "INFO - 2022-07-31 13:02:07:pipeline/mimic.py:L 147 - Done.\n",
      "INFO - 2022-07-31 13:02:07:pipeline/mimic.py:L 148 - Splitting Dataset.\n",
      "INFO - 2022-07-31 13:02:07:pipeline/mimic.py:L 106 - Done.\n",
      "INFO - 2022-07-31 13:02:07:pipeline/mimic.py:L 112 - Starting model run for model: lstm_default!\n",
      "INFO - 2022-07-31 13:02:09:preprocessing/__init__.py:L 464 - Done computing new normalizer in 1.3967103958129883!\n",
      "Model: \"lstm_network_3\"\n",
      "_________________________________________________________________\n",
      " Layer (type)                Output Shape              Param #   \n",
      "=================================================================\n",
      " x (InputLayer)              [(None, None, 59)]        0         \n",
      "                                                                 \n",
      " masking_3 (Masking)         (None, None, 59)          0         \n",
      "                                                                 \n",
      " lstm_3 (LSTM)               (None, 128)               96256     \n",
      "                                                                 \n",
      " dense_3 (Dense)             (None, 10)                1290      \n",
      "                                                                 \n",
      "=================================================================\n",
      "Total params: 97,546\n",
      "Trainable params: 97,546\n",
      "Non-trainable params: 0\n",
      "_________________________________________________________________\n",
      "INFO - 2022-07-31 13:02:09:pipeline/mimic.py:L 240 - Training model.\n",
      "Epoch 1/5\n",
      "836/836 [==============================] - ETA: 0s - loss: 1.8138 - accuracy: 0.3903"
     ]
    },
    {
     "name": "stderr",
     "output_type": "stream",
     "text": [
      "WARNING:absl:Found untraced functions such as lstm_cell_3_layer_call_fn, lstm_cell_3_layer_call_and_return_conditional_losses while saving (showing 2 of 2). These functions will not be directly callable after loading.\n"
     ]
    },
    {
     "name": "stdout",
     "output_type": "stream",
     "text": [
      "INFO:tensorflow:Assets written to: /work/model/mimic/lstm_default/length_of_stay/cp-0001.ckpt/assets\n"
     ]
    },
    {
     "name": "stderr",
     "output_type": "stream",
     "text": [
      "INFO:tensorflow:Assets written to: /work/model/mimic/lstm_default/length_of_stay/cp-0001.ckpt/assets\n"
     ]
    },
    {
     "name": "stdout",
     "output_type": "stream",
     "text": [
      "836/836 [==============================] - 37s 45ms/step - loss: 1.8138 - accuracy: 0.3903 - val_loss: 2.2318 - val_accuracy: 0.2864 - lr: 0.0010\n",
      "Epoch 2/5\n",
      "835/836 [============================>.] - ETA: 0s - loss: 1.5782 - accuracy: 0.4518"
     ]
    },
    {
     "name": "stderr",
     "output_type": "stream",
     "text": [
      "WARNING:absl:Found untraced functions such as lstm_cell_3_layer_call_fn, lstm_cell_3_layer_call_and_return_conditional_losses while saving (showing 2 of 2). These functions will not be directly callable after loading.\n"
     ]
    },
    {
     "name": "stdout",
     "output_type": "stream",
     "text": [
      "INFO:tensorflow:Assets written to: /work/model/mimic/lstm_default/length_of_stay/cp-0002.ckpt/assets\n"
     ]
    },
    {
     "name": "stderr",
     "output_type": "stream",
     "text": [
      "INFO:tensorflow:Assets written to: /work/model/mimic/lstm_default/length_of_stay/cp-0002.ckpt/assets\n"
     ]
    },
    {
     "name": "stdout",
     "output_type": "stream",
     "text": [
      "836/836 [==============================] - 37s 45ms/step - loss: 1.5763 - accuracy: 0.4525 - val_loss: 2.5879 - val_accuracy: 0.2757 - lr: 0.0010\n",
      "Epoch 3/5\n",
      "836/836 [==============================] - ETA: 0s - loss: 1.3985 - accuracy: 0.5182"
     ]
    },
    {
     "name": "stderr",
     "output_type": "stream",
     "text": [
      "WARNING:absl:Found untraced functions such as lstm_cell_3_layer_call_fn, lstm_cell_3_layer_call_and_return_conditional_losses while saving (showing 2 of 2). These functions will not be directly callable after loading.\n"
     ]
    },
    {
     "name": "stdout",
     "output_type": "stream",
     "text": [
      "INFO:tensorflow:Assets written to: /work/model/mimic/lstm_default/length_of_stay/cp-0003.ckpt/assets\n"
     ]
    },
    {
     "name": "stderr",
     "output_type": "stream",
     "text": [
      "INFO:tensorflow:Assets written to: /work/model/mimic/lstm_default/length_of_stay/cp-0003.ckpt/assets\n"
     ]
    },
    {
     "name": "stdout",
     "output_type": "stream",
     "text": [
      "836/836 [==============================] - 39s 47ms/step - loss: 1.3985 - accuracy: 0.5182 - val_loss: 3.0267 - val_accuracy: 0.2830 - lr: 0.0010\n",
      "Epoch 4/5\n",
      "836/836 [==============================] - ETA: 0s - loss: 1.2352 - accuracy: 0.5692"
     ]
    },
    {
     "name": "stderr",
     "output_type": "stream",
     "text": [
      "WARNING:absl:Found untraced functions such as lstm_cell_3_layer_call_fn, lstm_cell_3_layer_call_and_return_conditional_losses while saving (showing 2 of 2). These functions will not be directly callable after loading.\n"
     ]
    },
    {
     "name": "stdout",
     "output_type": "stream",
     "text": [
      "INFO:tensorflow:Assets written to: /work/model/mimic/lstm_default/length_of_stay/cp-0004.ckpt/assets\n"
     ]
    },
    {
     "name": "stderr",
     "output_type": "stream",
     "text": [
      "INFO:tensorflow:Assets written to: /work/model/mimic/lstm_default/length_of_stay/cp-0004.ckpt/assets\n"
     ]
    },
    {
     "name": "stdout",
     "output_type": "stream",
     "text": [
      "836/836 [==============================] - 46s 55ms/step - loss: 1.2352 - accuracy: 0.5692 - val_loss: 3.0577 - val_accuracy: 0.2733 - lr: 0.0010\n",
      "Epoch 5/5\n",
      "835/836 [============================>.] - ETA: 0s - loss: 1.1072 - accuracy: 0.5991"
     ]
    },
    {
     "name": "stderr",
     "output_type": "stream",
     "text": [
      "WARNING:absl:Found untraced functions such as lstm_cell_3_layer_call_fn, lstm_cell_3_layer_call_and_return_conditional_losses while saving (showing 2 of 2). These functions will not be directly callable after loading.\n"
     ]
    },
    {
     "name": "stdout",
     "output_type": "stream",
     "text": [
      "INFO:tensorflow:Assets written to: /work/model/mimic/lstm_default/length_of_stay/cp-0005.ckpt/assets\n"
     ]
    },
    {
     "name": "stderr",
     "output_type": "stream",
     "text": [
      "INFO:tensorflow:Assets written to: /work/model/mimic/lstm_default/length_of_stay/cp-0005.ckpt/assets\n"
     ]
    },
    {
     "name": "stdout",
     "output_type": "stream",
     "text": [
      "836/836 [==============================] - 48s 57ms/step - loss: 1.1074 - accuracy: 0.5985 - val_loss: 3.3147 - val_accuracy: 0.2757 - lr: 0.0010\n",
      "INFO - 2022-07-31 13:05:36:pipeline/mimic.py:L 256 - Training complete.\n"
     ]
    }
   ],
   "source": [
    "model = LSTMNetwork(**model_config)\n",
    "pipe = pipeline.MIMICPipeline(model, **pipeline_config)\n",
    "model, history = pipe.fit(timeseries,\n",
    "                          episodic_data,\n",
    "                          subject_diagnoses,\n",
    "                          subject_icu_history)"
   ]
  },
  {
   "cell_type": "code",
   "execution_count": 16,
   "id": "a17102b5",
   "metadata": {},
   "outputs": [],
   "source": [
    "y_pred, y_true = pipe.predict()"
   ]
  },
  {
   "cell_type": "code",
   "execution_count": null,
   "id": "630a4b8d",
   "metadata": {},
   "outputs": [],
   "source": []
  }
 ],
 "metadata": {
  "kernelspec": {
   "display_name": "Python 3.8.10 64-bit",
   "language": "python",
   "name": "python3"
  },
  "language_info": {
   "codemirror_mode": {
    "name": "ipython",
    "version": 3
   },
   "file_extension": ".py",
   "mimetype": "text/x-python",
   "name": "python",
   "nbconvert_exporter": "python",
   "pygments_lexer": "ipython3",
   "version": "3.8.10"
  },
  "vscode": {
   "interpreter": {
    "hash": "31f2aee4e71d21fbe5cf8b01ff0e069b9275f58929596ceb00d14d90e3e16cd6"
   }
  }
 },
 "nbformat": 4,
 "nbformat_minor": 5
}
